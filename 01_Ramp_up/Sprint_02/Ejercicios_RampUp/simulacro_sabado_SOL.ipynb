{
 "cells": [
  {
   "attachments": {},
   "cell_type": "markdown",
   "metadata": {},
   "source": [
    "# Simulacro Rampup"
   ]
  },
  {
   "cell_type": "code",
   "execution_count": null,
   "metadata": {},
   "outputs": [],
   "source": [
    "# Escribe tu nombre y apellidos (apellido si solo tienes uno) en las variables:\n",
    "nombre = \"\"\n",
    "apellidos = \"\""
   ]
  },
  {
   "cell_type": "code",
   "execution_count": null,
   "metadata": {},
   "outputs": [],
   "source": [
    "# Solo ejecutar\n",
    "nombre_apellidos = nombre + ' ' + apellidos\n",
    "print(\"Bienvenido\", nombre_apellidos + '. Mucha suerte!')"
   ]
  },
  {
   "cell_type": "markdown",
   "metadata": {},
   "source": [
    "### Ejercicio 1: Calculadoras (3 puntos)\n"
   ]
  },
  {
   "cell_type": "markdown",
   "metadata": {},
   "source": [
    "Construye un programa que:\n",
    "\n",
    "- Salude al usuario por su nombre\n",
    "- Le pregunte si quiere sumar, restar, multiplicar o dividir\n",
    "- Pida que introduzca 2 números de manera sucesiva\n",
    "- Devuelva el resultado de manera formal con un mensaje apropiado \n",
    "\n",
    "**Ayuda**: No se puede dividir por 0"
   ]
  },
  {
   "cell_type": "code",
   "execution_count": null,
   "metadata": {},
   "outputs": [],
   "source": [
    "nombre = input(\"Hola, ¿cómo te llamas?\")\n",
    "print(f\"Encantado de ayudarte {nombre}\")\n",
    "operacion = input(\"¿Qué operación quieres hacer? sumar(s), restar(r), multiplicar(m) o dividir(d)\")\n",
    "print(f\"Perfecto, quieres hacer la operacion siguiente: {operacion}\")\n",
    "numero1 = int(input(\"Introduce el primer numero, un entero:\"))\n",
    "numero2 = int(input(\"Introduce el segundo numero, un entero:\"))\n",
    "if operacion.lower() == \"sumar\" or operacion.lower() == \"s\":\n",
    "    resultado = numero1 + numero2\n",
    "    operacion = \"+\"\n",
    "    #print(f\"El resultado de tu operación {numero1} + {numero2} es {resultado}, {numero1} + {numero2} = {resultado}\")\n",
    "elif operacion.lower() == \"restar\" or operacion.lower() == \"r\":\n",
    "    resultado = numero1 - numero2\n",
    "    operacion = \"-\"\n",
    "elif operacion.lower() == \"multiplicar\" or operacion.lower() == \"m\":\n",
    "    resultado = numero1 * numero2\n",
    "    operacion = \"*\"\n",
    "elif operacion.lower() == \"dividir\" or operacion.lower() == \"d\":\n",
    "    if numero2 == 0:\n",
    "        print(\"No se puede dividir por 0, todavía, sorry\")\n",
    "        operacion = \"mala\"\n",
    "    else:\n",
    "        resultado = numero1 / numero2\n",
    "        operacion = \"/\"\n",
    "else:\n",
    "    print(\"Operacion no admitida\")\n",
    "    operacion = \"mala\"\n",
    "\n",
    "if operacion != \"mala\":\n",
    "    print(f\"El resultado de tu operación {numero1} {operacion} {numero2} es {resultado}, {numero1} {operacion} {numero2} = {resultado}\")\n",
    "\n"
   ]
  },
  {
   "cell_type": "markdown",
   "metadata": {},
   "source": [
    "Construye una calculadora que sea como la anterior pero:\n",
    "\n",
    "- Acepte tantos valores de entrada como queramos\n",
    "- Devuelva mensajes con las cuentas que se van haciendo.\n",
    "- Permita salir con una palabra clave (exit, quit, ...)"
   ]
  },
  {
   "cell_type": "code",
   "execution_count": null,
   "metadata": {},
   "outputs": [],
   "source": [
    "nombre = input(\"Hola, ¿cómo te llamas?\")\n",
    "print(f\"Encantado de ayudarte {nombre}\")\n",
    "#final  = False\n",
    "while not final:\n",
    "    operacion = input(\"¿Qué operación quieres hacer? sumar(s), restar(r), multiplicar(m) o dividir(d)\")\n",
    "    print(f\"Perfecto, quieres hacer la operacion siguiente: {operacion}\")\n",
    "    numero1 = int(input(\"Introduce el primer numero, un entero:\"))\n",
    "    numero2 = int(input(\"Introduce el segundo numero, un entero:\"))\n",
    "    if operacion.lower() == \"sumar\" or operacion.lower() == \"s\":\n",
    "        resultado = numero1 + numero2\n",
    "        operacion = \"+\"\n",
    "        #print(f\"El resultado de tu operación {numero1} + {numero2} es {resultado}, {numero1} + {numero2} = {resultado}\")\n",
    "    elif operacion.lower() == \"restar\" or operacion.lower() == \"r\":\n",
    "        resultado = numero1 - numero2\n",
    "        operacion = \"-\"\n",
    "    elif operacion.lower() == \"multiplicar\" or operacion.lower() == \"m\":\n",
    "        resultado = numero1 * numero2\n",
    "        operacion = \"*\"\n",
    "    elif operacion.lower() == \"dividir\" or operacion.lower() == \"d\":\n",
    "        if numero2 == 0:\n",
    "            print(\"No se puede dividir por 0, todavía, sorry\")\n",
    "            operacion = \"mala\"\n",
    "    elif operacion.lower() == \"quit\" or operacion.lower() == \"exit\":\n",
    "            final = True\n",
    "            continue\n",
    "    else:\n",
    "        print(\"Operacion no admitida\")\n",
    "        operacion = \"mala\"\n",
    "        \n",
    "    if operacion != \"mala\":\n",
    "        print(f\"El resultado de tu operación {numero1} {operacion} {numero2} es {resultado}, {numero1} {operacion} {numero2} = {resultado}\")\n"
   ]
  },
  {
   "attachments": {},
   "cell_type": "markdown",
   "metadata": {},
   "source": [
    "### Ejercicio 2 (3 puntos)\n",
    "\n",
    "#### Crear un programa que calcule la cuota de una hipoteca\n",
    "\n",
    "Las cuotas hipotecarias se calculan utilizando la fórmula del interés francés. \n",
    "\n",
    "La fórmula del interés francés es la siguiente:\n",
    "\\begin{align*}\n",
    "C=V \\frac{(1+i)^n i}{(1+i)^n -1}\n",
    "\\end{align*}\n",
    "\n",
    "\n",
    "    C = cuota a pagar (mensual)\n",
    "    V = volumen del préstamo hipotecario\n",
    "    i = tipo de interés del período (mensual)\n",
    "    n = número de cuotas (mensuales)\n",
    "\n"
   ]
  },
  {
   "attachments": {},
   "cell_type": "markdown",
   "metadata": {},
   "source": [
    "1. Crea un programa que solicite al usuario los datos de su hipoteca mediante input() los datos (volumen, interés **anual**, y plazo en **años**) y le devuelva la cuota **mensual** a pagar. No es necesario encapsularlo en funciones. (0.4)"
   ]
  },
  {
   "cell_type": "code",
   "execution_count": null,
   "metadata": {},
   "outputs": [],
   "source": [
    "volumen = float(input(\"Por favor, introduce el monto total de la hipoteca solicitada\").replace(\",\",\".\"))\n",
    "interes = float(input(\"Por favor, introduce la usur... perdón el interés anual\").replace(\"%\",\"\").replace(\",\",\".\"))\n",
    "plazo = int(input(\"Por favor, introduce el número de años de condena\"))\n",
    "V = volumen\n",
    "i = interes/100/12\n",
    "n = plazo * 12\n",
    "numerador = V * ((i+1)**n)*i\n",
    "denominador = ((i + 1)**n) - 1\n",
    "C = numerador/denominador\n",
    "print(\"Su exquisita cuota, pringao, es de:\", C)"
   ]
  },
  {
   "attachments": {},
   "cell_type": "markdown",
   "metadata": {},
   "source": [
    "2. Crea una función `calcular_hip` que realiza el cálculo y cuyos argumentos de entrada sean `volumen`, `interes_anual` y `años`, devolviendo la couta mensual(float). El argumento de `años` deberá de tener un valor por defecto de 30. Documenta la función con el estilo de Google.  (0.4)"
   ]
  },
  {
   "cell_type": "code",
   "execution_count": null,
   "metadata": {},
   "outputs": [],
   "source": [
    "def calcular_hip(volumen, interes_anual, anyos = 30):\n",
    "    V = volumen\n",
    "    i = interes_anual/100/12\n",
    "    n = anyos * 12\n",
    "    numerador = V * ((i+1)**n)*i\n",
    "    denominador = ((i + 1)**n) - 1\n",
    "    C = numerador/denominador\n",
    "    return round(C,2)\n",
    "\n",
    "\n",
    "print(\"Su exquisita cuota, pringao, es de:\", calcular_hip(300000,3.5,20))"
   ]
  },
  {
   "attachments": {},
   "cell_type": "markdown",
   "metadata": {},
   "source": [
    "3. Calcula la cuota y guárdala en la variable `res_cuota` si la cantidad de la hipoteca son 350000 euros, el interés anual es del 5% y la quiere pagar en 20 años a partir de la función `calcular_hip`. (0.4)\n",
    "\n"
   ]
  },
  {
   "cell_type": "code",
   "execution_count": null,
   "metadata": {},
   "outputs": [],
   "source": [
    "res_cuota = calcular_hip(350000,5,20)\n",
    "print(res_cuota)"
   ]
  },
  {
   "attachments": {},
   "cell_type": "markdown",
   "metadata": {},
   "source": [
    "4. Crea una función `gasto_vivienda`, con dos argumentos de entrada `ingreso` y `lista_hip`. Esta lista tendrá los 3 valores de los argumentos de entrada de `calcular_hip`, llamando a esta función desde dentro de `gasto_vivienda`. Tiene que devolver el valor del porcentaje de gasto en la hipoteca respecto a los ingresos. (Entre 0 y 1, es decir 0.5 si es del 50%) Documenta la función. (0.4)"
   ]
  },
  {
   "cell_type": "code",
   "execution_count": null,
   "metadata": {},
   "outputs": [],
   "source": [
    "def gasto_vivienda(ingreso, lista_hip):\n",
    "    C = calcular_hip(lista_hip[0],lista_hip[1],lista_hip[2])\n",
    "    porcentaje = C/ingreso\n",
    "    return porcentaje\n"
   ]
  },
  {
   "attachments": {},
   "cell_type": "markdown",
   "metadata": {},
   "source": [
    "5. Calcula el porcentaje de gasto en la hipoteca si el ingreso es de 1700 euros y guárdalo en la variable `res_porcentaje` a partir de la función `gasto_vivienda`. (0.4)\n"
   ]
  },
  {
   "cell_type": "code",
   "execution_count": null,
   "metadata": {},
   "outputs": [],
   "source": [
    "porcentaje_seguro = 0.5\n",
    "res_porcentaje = gasto_vivienda(45000, [3000000, 3, 30])\n",
    "if res_porcentaje > porcentaje_seguro:\n",
    "    print(\"DENEGADA!!!!!\")\n",
    "else:\n",
    "    print(\"Subir interes un poco\")"
   ]
  },
  {
   "cell_type": "markdown",
   "metadata": {},
   "source": [
    "#### Ejercicio 3 (3 puntos)\n",
    "\n",
    "Crea un programa que simule un carrusel infantil.\n",
    "\n",
    "\n",
    "El carrusel infantil tiene 3 posibles cochecitos: barco - bomberos - avioneta (una variable global de tipo lista, fuera de tu función).\n",
    "\n",
    "Debes escribir una **FUNCIÓN** llamada carrusel que tenga dos parámetros de entrada: el cochecito que eliges (puede valer el string barco, bomberos o avioneta) y un segundo parámetro llamado vueltas que es un entero.\n",
    "\n",
    "Tu función carrusel NO debe retornar nada, pero debe llamar internamente a coloca(cochecito), ya te lo doy programado. Si sientas al niño en \"avioneta\" y pones 3 vueltas, la función debería imprimir:\n",
    "\n",
    "\"vuelta 1: avioneta - barco - bomberos\"\n",
    "\n",
    "\"vuelta 2: avioneta - barco - bomberos\"\n",
    "\n",
    "\"vuelta 3: avioneta - barco - bomberos\"\n",
    "\n",
    "Se valorará positivamente que haya **UN BUCLE WHILE**.\n",
    "Si no te acaba de funcionar llamando a coloca(cochecito) tras un tiempo prudencial, escribe tu código sin usarlo."
   ]
  },
  {
   "cell_type": "code",
   "execution_count": 7,
   "metadata": {},
   "outputs": [],
   "source": [
    "lista_carrusel = [\"barco\", \"bomberos\", \"avioneta\"]\n",
    "\n",
    "def coloca(cochecito):  # cochecito = \"avioneta\"\n",
    "    if cochecito == \"barco\": # False\n",
    "        return lista_carrusel #No se ejecuta\n",
    "    elif cochecito == \"bomberos\" or cochecito == \"avioneta\": # True\n",
    "        elemento = lista_carrusel.pop(0) # elemento = \"barco\", lista_carrusel = [\"bomberos\", \"avioneta\"]\n",
    "        lista_carrusel.append(elemento) # lista_carrusel = [\"bomberos\",\"avioneta\",\"barco\"]\n",
    "    if cochecito == \"avioneta\": # True\n",
    "        elemento = lista_carrusel.pop(0) # elemento = \"bomberos\", lista_carrusel = [\"avioneta\",\"barco\"]\n",
    "        lista_carrusel.append(elemento) # lista_carrusel  = [\"avioneta\",\"barco\",\"bomberos\"]\n",
    "    return lista_carrusel # lista_carrusel  = [\"avioneta\",\"barco\",\"bomberos\"]"
   ]
  },
  {
   "cell_type": "code",
   "execution_count": 8,
   "metadata": {},
   "outputs": [
    {
     "name": "stdout",
     "output_type": "stream",
     "text": [
      "vuelta 1: avioneta - barco - bomberos\n",
      "vuelta 2: avioneta - barco - bomberos\n",
      "vuelta 3: avioneta - barco - bomberos\n"
     ]
    }
   ],
   "source": [
    "def carrusel(cochecito, num_vueltas): # cochecito = \"avioneta\", num_vueltas = 3\n",
    "    orden_del_tio_vivo = coloca(cochecito) # coloca(\"avioneta\")\n",
    "    for i in range(num_vueltas):\n",
    "        print(f\"vuelta {i+1}: {' - '.join(orden_del_tio_vivo)}\")\n",
    "\n",
    "carrusel(\"avioneta\",3)\n",
    "carrusel(\"bomberos\",3)"
   ]
  },
  {
   "cell_type": "markdown",
   "metadata": {},
   "source": [
    "**EJERCICIO BONUS:**\n",
    "1. Crea una función que, dado un input `x`, devuelva \n",
    "$$\n",
    "y = 4x + 2\n",
    "$$\n",
    "\n",
    "2. Crea una función que, dado un input `x`, devuelva \n",
    "$$\n",
    "y = 3x^2 + 4x + 2\n",
    "$$\n",
    "\n",
    "3. Dado el polinomio\n",
    "\n",
    "$$\n",
    "a_nx^n + a_{n-1}x^{n-1} + ... + a_2x^2 + a_1x + a_0\n",
    "$$\n",
    "\n",
    "Crea una función que reciba como input `x` y una lista de `[a_0, ..., a_n]` y devuelva el valor del polinomio en `x`.\n",
    "\n",
    "**Nota**: En caso de no poder con una función, hacerlo como se pueda.\n",
    "\n",
    "**Pista**: El primero cumple `n = 1` y los parámetros son `[2, 4]`. El segundo: `n = 2` y los parámetros `[2, 4, 3]`. Con esta información, intenta generalizar."
   ]
  },
  {
   "cell_type": "code",
   "execution_count": 1,
   "metadata": {},
   "outputs": [
    {
     "name": "stdout",
     "output_type": "stream",
     "text": [
      "10\n"
     ]
    }
   ],
   "source": [
    "def funcion1(x):\n",
    "    sumando1 = 4 * x\n",
    "    sumando2 = 2\n",
    "    return sumando1 + sumando2\n",
    "\n",
    "print(funcion1(2))\n"
   ]
  },
  {
   "cell_type": "code",
   "execution_count": 2,
   "metadata": {},
   "outputs": [],
   "source": [
    "def funcion2(x):\n",
    "    sumando1 = 3 * x**2\n",
    "    sumando2 = 4 * x\n",
    "    sumando3 = 2\n",
    "    return sumando1 + sumando2 + sumando3"
   ]
  },
  {
   "cell_type": "code",
   "execution_count": null,
   "metadata": {},
   "outputs": [],
   "source": [
    "def polinomio(x, lista_coeficientes):\n",
    "    resultado = 0\n",
    "    for indice, coeficiente in enumerate(lista_coeficientes):\n",
    "        if indice == 0:\n",
    "            sumando = 1 * coeficiente\n",
    "        else:\n",
    "            sumando = x**indice * coeficiente\n",
    "        resultado += sumando\n",
    "    return resultado\n",
    "            "
   ]
  }
 ],
 "metadata": {
  "kernelspec": {
   "display_name": "Python 3 (ipykernel)",
   "language": "python",
   "name": "python3"
  },
  "language_info": {
   "codemirror_mode": {
    "name": "ipython",
    "version": 3
   },
   "file_extension": ".py",
   "mimetype": "text/x-python",
   "name": "python",
   "nbconvert_exporter": "python",
   "pygments_lexer": "ipython3",
   "version": "3.11.6"
  },
  "vscode": {
   "interpreter": {
    "hash": "90139cb9a825bf3d63f6f6704e828dbd1ff7edbd4d0c6e906a71235d6efc74af"
   }
  }
 },
 "nbformat": 4,
 "nbformat_minor": 4
}
