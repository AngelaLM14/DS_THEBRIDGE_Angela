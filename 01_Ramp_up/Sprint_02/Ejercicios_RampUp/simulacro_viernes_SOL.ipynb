{
 "cells": [
  {
   "attachments": {},
   "cell_type": "markdown",
   "metadata": {},
   "source": [
    "# Simulacro Rampup"
   ]
  },
  {
   "cell_type": "code",
   "execution_count": null,
   "metadata": {},
   "outputs": [],
   "source": [
    "# Escribe tu nombre y apellidos (apellido si solo tienes uno) en las variables:\n",
    "nombre = \"\"\n",
    "apellidos = \"\""
   ]
  },
  {
   "cell_type": "code",
   "execution_count": null,
   "metadata": {},
   "outputs": [],
   "source": [
    "# Solo ejecutar\n",
    "nombre_apellidos = nombre + ' ' + apellidos\n",
    "print(\"Bienvenido\", nombre_apellidos + '. Mucha suerte!')"
   ]
  },
  {
   "cell_type": "markdown",
   "metadata": {},
   "source": [
    "### Ejercicio 1: Calculadoras (3 puntos)\n"
   ]
  },
  {
   "cell_type": "markdown",
   "metadata": {},
   "source": [
    "Construye un programa que:\n",
    "\n",
    "- Salude al usuario por su nombre\n",
    "- Le pregunte si quiere sumar, restar, multiplicar o dividir\n",
    "- Pida que introduzca 2 números de manera sucesiva\n",
    "- Devuelva el resultado de manera formal con un mensaje apropiado \n",
    "\n",
    "**Ayuda**: No se puede dividir por 0"
   ]
  },
  {
   "cell_type": "code",
   "execution_count": 5,
   "metadata": {},
   "outputs": [
    {
     "name": "stdout",
     "output_type": "stream",
     "text": [
      "Hola, ¿cómo te llamas? Angela\n"
     ]
    },
    {
     "name": "stdout",
     "output_type": "stream",
     "text": [
      "Encantado de ayudarte Angela\n"
     ]
    },
    {
     "name": "stdout",
     "output_type": "stream",
     "text": [
      "¿Qué operación quieres hacer? sumar(s), restar(r), multiplicar(m) o dividir(d) restar\n"
     ]
    },
    {
     "name": "stdout",
     "output_type": "stream",
     "text": [
      "Perfecto, quieres hacer la operacion siguiente: restar\n"
     ]
    },
    {
     "name": "stdout",
     "output_type": "stream",
     "text": [
      "Introduce el primer numero, un entero: 4\n",
      "Introduce el segundo numero, un entero: 1\n"
     ]
    },
    {
     "name": "stdout",
     "output_type": "stream",
     "text": [
      "El resultado de tu operación 4 - 1 es 3, 4 - 1 = 3\n"
     ]
    }
   ],
   "source": [
    "nombre = input(\"Hola, ¿cómo te llamas?\")\n",
    "print(f\"Encantado de ayudarte {nombre}\")\n",
    "operacion = input(\"¿Qué operación quieres hacer? sumar(s), restar(r), multiplicar(m) o dividir(d)\")\n",
    "print(f\"Perfecto, quieres hacer la operacion siguiente: {operacion}\")\n",
    "numero1 = int(input(\"Introduce el primer numero, un entero:\"))\n",
    "numero2 = int(input(\"Introduce el segundo numero, un entero:\"))\n",
    "if operacion.lower() == \"sumar\" or operacion.lower() == \"s\":\n",
    "    resultado = numero1 + numero2\n",
    "    operacion = \"+\"\n",
    "    #print(f\"El resultado de tu operación {numero1} + {numero2} es {resultado}, {numero1} + {numero2} = {resultado}\")\n",
    "elif operacion.lower() == \"restar\" or operacion.lower() == \"r\":\n",
    "    resultado = numero1 - numero2\n",
    "    operacion = \"-\"\n",
    "elif operacion.lower() == \"multiplicar\" or operacion.lower() == \"m\":\n",
    "    resultado = numero1 * numero2\n",
    "    operacion = \"*\"\n",
    "elif operacion.lower() == \"dividir\" or operacion.lower() == \"d\":\n",
    "    if numero2 == 0:\n",
    "        print(\"No se puede dividir por 0, todavía, sorry\")\n",
    "        operacion = \"mala\"\n",
    "    else:\n",
    "        resultado = numero1 / numero2\n",
    "        operacion = \"/\"\n",
    "else:\n",
    "    print(\"Operacion no admitida\")\n",
    "    operacion = \"mala\"\n",
    "\n",
    "if operacion != \"mala\":\n",
    "    print(f\"El resultado de tu operación {numero1} {operacion} {numero2} es {resultado}, {numero1} {operacion} {numero2} = {resultado}\")\n"
   ]
  },
  {
   "cell_type": "markdown",
   "metadata": {},
   "source": [
    "Construye una calculadora que sea como la anterior pero:\n",
    "\n",
    "- Acepte tantos valores de entrada como queramos\n",
    "- Devuelva mensajes con las cuentas que se van haciendo.\n",
    "- Permita salir con una palabra clave (exit, quit, ...)"
   ]
  },
  {
   "cell_type": "code",
   "execution_count": null,
   "metadata": {},
   "outputs": [],
   "source": [
    "nombre = input(\"Hola, ¿cómo te llamas?\")\n",
    "print(f\"Encantado de ayudarte {nombre}\")\n",
    "#final  = False\n",
    "while not final:\n",
    "    operacion = input(\"¿Qué operación quieres hacer? sumar(s), restar(r), multiplicar(m) o dividir(d)\")\n",
    "    print(f\"Perfecto, quieres hacer la operacion siguiente: {operacion}\")\n",
    "    numero1 = int(input(\"Introduce el primer numero, un entero:\"))\n",
    "    numero2 = int(input(\"Introduce el segundo numero, un entero:\"))\n",
    "    if operacion.lower() == \"sumar\" or operacion.lower() == \"s\":\n",
    "        resultado = numero1 + numero2\n",
    "        operacion = \"+\"\n",
    "        #print(f\"El resultado de tu operación {numero1} + {numero2} es {resultado}, {numero1} + {numero2} = {resultado}\")\n",
    "    elif operacion.lower() == \"restar\" or operacion.lower() == \"r\":\n",
    "        resultado = numero1 - numero2\n",
    "        operacion = \"-\"\n",
    "    elif operacion.lower() == \"multiplicar\" or operacion.lower() == \"m\":\n",
    "        resultado = numero1 * numero2\n",
    "        operacion = \"*\"\n",
    "    elif operacion.lower() == \"dividir\" or operacion.lower() == \"d\":\n",
    "        if numero2 == 0:\n",
    "            print(\"No se puede dividir por 0, todavía, sorry\")\n",
    "            operacion = \"mala\"\n",
    "    elif operacion.lower() == \"quit\" or operacion.lower() == \"exit\":\n",
    "            final = True\n",
    "            continue\n",
    "    else:\n",
    "        print(\"Operacion no admitida\")\n",
    "        operacion = \"mala\"\n",
    "        \n",
    "    if operacion != \"mala\":\n",
    "        print(f\"El resultado de tu operación {numero1} {operacion} {numero2} es {resultado}, {numero1} {operacion} {numero2} = {resultado}\")\n"
   ]
  },
  {
   "cell_type": "markdown",
   "metadata": {},
   "source": [
    "### Ejercicio 2 (4 puntos)\n",
    "\n",
    "Escribe un programa que trabaje con 3 listas:\n",
    "\n",
    "La lista ***grupo_musical*** contiene strings.\n",
    "\n",
    "La lista ***generos*** contiene strings.\n",
    "\n",
    "La lista ***anios*** puede contener un entero o tuplas.\n",
    "\n",
    "Ejemplo de datos:\n",
    "\n",
    ">\"ABBA\"\n",
    ">\n",
    ">\"pop\"\n",
    ">\n",
    ">(1972, 1982)\n",
    "\n",
    "Otro ejemplo:\n",
    "\n",
    ">\"Madonna\"\n",
    ">\n",
    ">\"pop\"\n",
    ">\n",
    ">1983\n",
    "\n",
    "Otro ejemplo:\n",
    "\n",
    ">\"Kölsch\"\n",
    ">\n",
    ">\"electronica\"\n",
    ">\n",
    ">1995\n",
    "\n",
    "Un grupo musical solo puede tener un género musical.\n",
    "Un grupo musical debe tener como mínimo un año de formación, que es un entero.\n",
    "Un grupo musical, si tuviese año de disolución, la información se guardaría en una tupla.\n",
    "\n",
    "Se pide implementar:\n",
    "\n",
    "a. Una función llamada *inserta* que acepte 4 parámetros (grupo, genero, comienzo, fin). El fin por defecto debe ser un objeto nulo. El grupo se inserta en la lista de grupos. El genero se inserta en la lista de géneros. El comienzo o comienzo y fin se inserta en la lista de años. La función no tiene valor retornado.\n",
    "\n",
    "b. Una función *busca_genero* con un parámetro de tipo string (genero) y devuelve una lista con todos los grupos de ese género.\n",
    "\n",
    "c. Una función *busca_grupos* con un parámetro booleano llamado *activos* con un valor por defecto verdadero. Cuando el valor es verdadero, devuelve solo los grupos activos en una lista. Cuando *activos* es falso, devuelve todos los grupos disueltos en una lista.\n",
    "\n",
    "d. Una función *busca_genero_indice* con un parámetro de tipo string (genero) que devuelve una lista con los índices donde se encuentra ese género.\n",
    "\n",
    "e. Una función *filtra_listas_genero* con un parámetro de tipo string (genero) que devuelve una tupla con las 3 listas filtradas y ***llame*** a busca_genero_indice\n",
    "\n",
    "f. Una función *anios_activos* que no tenga parámetros de entrada ni valor retornado que imprima línea a línea la información: grupo musical ---> años activos. Es decir: \n",
    "\n",
    ">ABBA ---> 10 años activos\n",
    ">\n",
    ">Madonna --> 40 años activos\n",
    ">\n",
    ">Kölsch --> 25 años activos\n",
    "\n",
    "\n",
    "Nota: si no te sale un apartado después de un tiempo prudencial, ¡pasa al siguiente!"
   ]
  },
  {
   "cell_type": "code",
   "execution_count": null,
   "metadata": {},
   "outputs": [],
   "source": [
    "grupos = []\n",
    "generos = []\n",
    "anyos = []\n",
    "\n",
    "def inserta(nombre, genero, comienzo , fin = None):\n",
    "    grupos.append(nombre)\n",
    "    generos.append(genero)\n",
    "    if fin:\n",
    "        inicio_fin = (comienzo,fin)\n",
    "    else:\n",
    "        inicio_fin = comienzo\n",
    "    anyos.append(inicio_fin)\n",
    "\n",
    "def busca_genero(genero):\n",
    "    lista_grupo = []\n",
    "    for indice, genero_dest in enumerate(generos):\n",
    "        if genero == genero_dest:\n",
    "            lista_grupo.append(grupos[indice])\n",
    "    return lista_grupo\n",
    "\n",
    "def busca_grupos(activos = True):\n",
    "    grupos_res = []\n",
    "    for indice,anyo in enumerate(anyos):\n",
    "        if type(anyo) == int and activos:\n",
    "            grupos_res.append(grupos[indice])\n",
    "        elif type(anyo) == tuple and not activos:\n",
    "            grupos_res.append(grupos[indice])\n",
    "    return grupos_res\n",
    "\n",
    "def busca_genero_indice(genero):\n",
    "    lista_indices = []\n",
    "    for indice, genero_dest in enumerate(generos):\n",
    "        if genero == genero_dest:\n",
    "            lista_indices.append(indice)\n",
    "    return lista_indices\n",
    "\n",
    "def filtra_genero(genero):\n",
    "    indices = busca_genero(genero)\n",
    "    lista_grupos = []\n",
    "    lista_generos = []\n",
    "    lista_anyos = []\n",
    "    for indice in indices:\n",
    "        lista_grupos.append(grupos[indice])\n",
    "        lista_generos.append(generos[indice])\n",
    "        lista_anyos.append(anyos[indice])\n",
    "    return (lista_grupos, lista_generos, lista_anyos)\n",
    "\n",
    "def anyos_activo():\n",
    "    anyo_actual = 2023\n",
    "    for indice,grupo in enumerate(grupos):\n",
    "        datos_tiempo = anyos[indice]\n",
    "        if type(datos_tiempo) == int:\n",
    "            activos = anyo_actual - datos_tiempo\n",
    "        else:\n",
    "            activos = datos_tiempo[1] - datos_tiempo[0]\n",
    "        print(f\"{grupo} --> {activos} años\")\n",
    "        \n",
    "    "
   ]
  },
  {
   "attachments": {},
   "cell_type": "markdown",
   "metadata": {},
   "source": [
    "### Ejercicio 3 (3 puntos)\n",
    "\n",
    "#### Crear un programa que calcule la cuota de una hipoteca\n",
    "\n",
    "Las cuotas hipotecarias se calculan utilizando la fórmula del interés francés. \n",
    "\n",
    "La fórmula del interés francés es la siguiente:\n",
    "\\begin{align*}\n",
    "C=V \\frac{(1+i)^n i}{(1+i)^n -1}\n",
    "\\end{align*}\n",
    "\n",
    "\n",
    "    C = cuota a pagar (mensual)\n",
    "    V = volumen del préstamo hipotecario\n",
    "    i = tipo de interés del período (mensual)\n",
    "    n = número de cuotas (mensuales)\n",
    "\n"
   ]
  },
  {
   "attachments": {},
   "cell_type": "markdown",
   "metadata": {},
   "source": [
    "1. Crea un programa que solicite al usuario los datos de su hipoteca mediante input() los datos (volumen, interés **anual**, y plazo en **años**) y le devuelva la cuota **mensual** a pagar. No es necesario encapsularlo en funciones. (0.4)"
   ]
  },
  {
   "cell_type": "code",
   "execution_count": null,
   "metadata": {},
   "outputs": [],
   "source": [
    "datos = input(\"Por favor introduce volumen, interes anual y plazo (en meses) separado por comas:\")\n",
    "datos_list = datos.split(\",\")\n",
    "volumen = float(datos_list[0])\n",
    "interes = float(datos_list[1].replace(\"%\",\"\"))/100/12\n",
    "plazo = float(datos_list[2])\n",
    "numerador = ((1 + interes) ** plazo) * interes \n",
    "denominador = ((1 + interes) ** plazo) - 1\n",
    "cuota = volumen * (numerador / denominador)\n",
    "print(f\"Su cuota es {cuota}\")"
   ]
  },
  {
   "cell_type": "code",
   "execution_count": null,
   "metadata": {},
   "outputs": [],
   "source": []
  },
  {
   "attachments": {},
   "cell_type": "markdown",
   "metadata": {},
   "source": [
    "2. Crea una función `calcular_hip` que realiza el cálculo y cuyos argumentos de entrada sean `volumen`, `interes_anual` y `años`, devolviendo la couta mensual(float). El argumento de `años` deberá de tener un valor por defecto de 30. Documenta la función con el estilo de Google.  (0.4)"
   ]
  },
  {
   "cell_type": "code",
   "execution_count": null,
   "metadata": {},
   "outputs": [],
   "source": [
    "def calcular_hip(volumen, interes_anual, anios=30):\n",
    "    '''\n",
    "    Función que calcula la cuota mensual de una hipoteca\n",
    "    \n",
    "    Args:\n",
    "        volumen (float): El volumen total de la hipoteca en euros\n",
    "        interes_anual (float): Tasa de interés anual\n",
    "        anios (int): Número de años para liquidar la hipoteca\n",
    "    Return:\n",
    "        cuota (float): Cuota mensual para la hipoteca\n",
    "    '''\n",
    "    n_meses = anios * 12\n",
    "    interes = interes_anual / 100 / 12\n",
    "    cuota = volumen * ((1 + interes) ** n_meses) * interes / (((1 + interes) ** n_meses) - 1)\n",
    "    return cuota"
   ]
  },
  {
   "attachments": {},
   "cell_type": "markdown",
   "metadata": {},
   "source": [
    "3. Calcula la cuota y guárdala en la variable `res_cuota` si la cantidad de la hipoteca son 350000 euros, el interés anual es del 5% y la quiere pagar en 20 años a partir de la función `calcular_hip`. (0.4)\n",
    "\n"
   ]
  },
  {
   "cell_type": "code",
   "execution_count": null,
   "metadata": {},
   "outputs": [],
   "source": [
    "res_cuota = calcular_hip(350000,5,20)\n",
    "print(res_cuota)"
   ]
  },
  {
   "attachments": {},
   "cell_type": "markdown",
   "metadata": {},
   "source": [
    "4. Crea una función `gasto_vivienda`, con dos argumentos de entrada `ingreso` y `lista_hip`. Esta lista tendrá los 3 valores de los argumentos de entrada de `calcular_hip`, llamando a esta función desde dentro de `gasto_vivienda`. Tiene que devolver el valor del porcentaje de gasto en la hipoteca respecto a los ingresos. (Entre 0 y 1, es decir 0.5 si es del 50%) Documenta la función. (0.4)"
   ]
  },
  {
   "cell_type": "code",
   "execution_count": null,
   "metadata": {},
   "outputs": [],
   "source": [
    "def gasto_vivienda(ingreso:float, lista_hip:list):\n",
    "    '''\n",
    "    Función que calcula el porcentaje de gasto de los ingresos en la hipoteca\n",
    "\n",
    "    Args:\n",
    "        ingreso (float): El ingreso mensual\n",
    "        lista_hip (list): Lista con los argumentos de volumen, interés anual y años\n",
    "\n",
    "    Return:\n",
    "        Porcentaje de la cuota mensaul respecto al ingreso\n",
    "    '''\n",
    "    cuota = calcular_hip(lista_hip[0],lista_hip[1],lista_hip[2])\n",
    "    return float(cuota / ingreso)"
   ]
  },
  {
   "attachments": {},
   "cell_type": "markdown",
   "metadata": {},
   "source": [
    "5. Calcula el porcentaje de gasto en la hipoteca si el ingreso es de 1700 euros y guárdalo en la variable `res_porcentaje` a partir de la función `gasto_vivienda`. (0.4)\n"
   ]
  },
  {
   "cell_type": "code",
   "execution_count": null,
   "metadata": {},
   "outputs": [],
   "source": [
    "res_porcentaje = gasto_vivienda(1700, [350000, 5, 20])\n",
    "print(res_porcentaje)"
   ]
  }
 ],
 "metadata": {
  "kernelspec": {
   "display_name": "Python 3 (ipykernel)",
   "language": "python",
   "name": "python3"
  },
  "language_info": {
   "codemirror_mode": {
    "name": "ipython",
    "version": 3
   },
   "file_extension": ".py",
   "mimetype": "text/x-python",
   "name": "python",
   "nbconvert_exporter": "python",
   "pygments_lexer": "ipython3",
   "version": "3.11.6"
  },
  "vscode": {
   "interpreter": {
    "hash": "90139cb9a825bf3d63f6f6704e828dbd1ff7edbd4d0c6e906a71235d6efc74af"
   }
  }
 },
 "nbformat": 4,
 "nbformat_minor": 4
}
