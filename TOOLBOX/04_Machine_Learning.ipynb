{
 "cells": [
  {
   "cell_type": "markdown",
   "metadata": {},
   "source": [
    "## Sprint 11 - Introducción a Machine Learning"
   ]
  },
  {
   "cell_type": "markdown",
   "metadata": {},
   "source": [
    "### Teoría"
   ]
  },
  {
   "cell_type": "markdown",
   "metadata": {},
   "source": [
    "#### Unit 1 - Estadística Inferencial"
   ]
  },
  {
   "cell_type": "markdown",
   "metadata": {},
   "source": [
    "1. [Población, Muestra y Sesgo](DS_THEBRIDGE_Angela\\04_Machine_Learning\\Sprint_11\\Unidad_01_Estadistica_Inferencial\\01_Poblacion_Muestra_Sesgo.ipynb)\n",
    "2. [Media Muestral I](DS_THEBRIDGE_Angela\\04_Machine_Learning\\Sprint_11\\Unidad_01_Estadistica_Inferencial\\02_Media_Muestral_I.ipynb)\n",
    "3. [Media Muestral II](DS_THEBRIDGE_Angela\\04_Machine_Learning\\Sprint_11\\Unidad_01_Estadistica_Inferencial\\03_Media_Muestral_II.ipynb)\n",
    "4. [Media Muestral III](DS_THEBRIDGE_Angela\\04_Machine_Learning\\Sprint_11\\Unidad_01_Estadistica_Inferencial\\04_Media_Muestral_III.ipynb)\n",
    "5. [Frecuencias muestrales](DS_THEBRIDGE_Angela\\04_Machine_Learning\\Sprint_11\\Unidad_01_Estadistica_Inferencial\\05_Frecuencias_Muestrales.ipynb)\n",
    "> [Ejercicios Inferencial](DS_THEBRIDGE_Angela\\04_Machine_Learning\\Sprint_11\\Unidad_01_Estadistica_Inferencial\\Ejercicios_Workout\\13_Ejercicios_Inferencial.ipynb)\n",
    "> [Ejercicios Inferencial - SOL](DS_THEBRIDGE_Angela\\04_Machine_Learning\\Sprint_11\\Unidad_01_Estadistica_Inferencial\\Ejercicios_Workout\\13_Ejercicios_Inferencial_SOL.ipynb)\n",
    "6. [Intro Probabilidad I](DS_THEBRIDGE_Angela\\04_Machine_Learning\\Sprint_11\\Unidad_01_Estadistica_Inferencial\\06_Intro_Probabilidad.ipynb)\n",
    "7. [Probabilidad Condicionada y otras](DS_THEBRIDGE_Angela\\04_Machine_Learning\\Sprint_11\\Unidad_01_Estadistica_Inferencial\\07_Condicionada_y_Otras.ipynb)\n",
    "8. [Probabilidad Variables continuas](DS_THEBRIDGE_Angela\\04_Machine_Learning\\Sprint_11\\Unidad_01_Estadistica_Inferencial\\08_Probabilidad_Variables_Continuas.ipynb)\n",
    "> [Ejercicios Probabilidad](DS_THEBRIDGE_Angela\\04_Machine_Learning\\Sprint_11\\Unidad_01_Estadistica_Inferencial\\Ejercicios_Workout\\14_Ejercicios_Probabilidad.ipynb)\n",
    "> [Ejercicios Probabilidad - SOL](DS_THEBRIDGE_Angela\\04_Machine_Learning\\Sprint_11\\Unidad_01_Estadistica_Inferencial\\Ejercicios_Workout\\14_Ejercicios_Probabilidad_SOL.ipynb)\n",
    "\n",
    ">[**Práctica Obligatoria**](DS_THEBRIDGE_Angela\\04_Machine_Learning\\Sprint_11\\Unidad_01_Estadistica_Inferencial\\Practica_Obligatoria\\18_Practica_Obligatoria_Estadistica_Inferencial.ipynb)\n",
    "____\n",
    "**MATERIAL EXTRA** \n",
    "###### **1 - Libros**\n",
    "* \"Python for Probability, Statistics, and Machine Learning\" de Jose Unpingco.\n",
    "* [\"Think Stats: Exploratory Data Analysis in Python\" de Allen B. Downey.](https://greenteapress.com/thinkstats2/thinkstats2.pdf)\n",
    "* \"Python for Data Analysis\" de Wes McKinney\n",
    "###### **2 - Librerías**\n",
    "* [La documentación oficial de Python tiene una sección dedicada a la librería \"statistics\" que puede ser útil para aplicar conceptos de estadística inferencial.](https://docs.python.org/3/library/statistics.html)\n",
    "###### **3 - Probabilidad**\n",
    "* [Introduction to Probability](https://ethanweed.github.io/pythonbook/04.02-probability.html)\n"
   ]
  },
  {
   "cell_type": "markdown",
   "metadata": {},
   "source": [
    "#### Unit 2 - Introducción a Machine Learning"
   ]
  },
  {
   "cell_type": "markdown",
   "metadata": {},
   "source": [
    "1. [Introducción Conceptos Básicos](https://drive.google.com/file/d/11SXnd15c3CVHDAWzuHR_hJKv0szWuAZg/view?usp=drive_link)\n",
    "2. [Introducción Modelos](https://drive.google.com/file/d/1KRv1ioLxX1kmfDkoFEJfymYszfJEWeQ1/view?usp=drive_link)\n",
    "3. [Introducción Proceso ML](https://drive.google.com/file/d/1JptMwVJjHtT_Q6Mo-592Lcik9W1msyZc/view?usp=drive_link)\n",
    "\n",
    "4. [Proceso de Tratamiento de Datos](DS_THEBRIDGE_Angela\\04_Machine_Learning\\Sprint_11\\Unidad_02_Introduccion_a_Machine_Learning\\04_Proceso_Tratamiento_Datos.ipynb)\n",
    "5. [Proceso EDA](DS_THEBRIDGE_Angela\\04_Machine_Learning\\Sprint_11\\Unidad_02_Introduccion_a_Machine_Learning\\05_Proceso_EDA.ipynb)\n",
    "> [Ejercicios Proceso Datos](DS_THEBRIDGE_Angela\\04_Machine_Learning\\Sprint_11\\Unidad_02_Introduccion_a_Machine_Learning\\Ejercicios_Workout\\13_Ejercicios_Proceso_Datos.ipynb)\n",
    "> [Ejercicios Proceso Datos - SOL](DS_THEBRIDGE_Angela\\04_Machine_Learning\\Sprint_11\\Unidad_02_Introduccion_a_Machine_Learning\\Ejercicios_Workout\\13_Ejercicios_Proceso_Datos_SOL.ipynb)\n",
    "\n",
    "6. [Tratamiento Features Categóricas](DS_THEBRIDGE_Angela\\04_Machine_Learning\\Sprint_11\\Unidad_02_Introduccion_a_Machine_Learning\\06_Tratamiento_Features_Categoricas.ipynb)\n",
    "7. [Tratamiento de Features Numéricas](DS_THEBRIDGE_Angela\\04_Machine_Learning\\Sprint_11\\Unidad_02_Introduccion_a_Machine_Learning\\07_Tratamiento_Features_Numericas.ipynb)\n",
    ">[Ejercicios Features](../02_Programacion_y_herramientas_avanzadas/Sprint_03_Algebra_y_Numpy/Unidad_02/Ejercicios_Workout/11_Ejercicios_Manipulaciones.ipynb)\n",
    ">[Ejercicios Features - SOL](DS_THEBRIDGE_Angela\\04_Machine_Learning\\Sprint_11\\Unidad_02_Introduccion_a_Machine_Learning\\Ejercicios_Workout\\14_Ejercicios_Features_SOL.ipynb)\n",
    "\n",
    "8. [Proceso de Modelado](DS_THEBRIDGE_Angela\\04_Machine_Learning\\Sprint_11\\Unidad_02_Introduccion_a_Machine_Learning\\08_Proceso_Modelado.ipynb)\n",
    "9. [Proceso de Evaluación y Ajuste](DS_THEBRIDGE_Angela\\04_Machine_Learning\\Sprint_11\\Unidad_02_Introduccion_a_Machine_Learning\\09_Proceso_Evaluacion_Ajuste.ipynb)\n",
    "> [Ejercicios Modelado](DS_THEBRIDGE_Angela\\04_Machine_Learning\\Sprint_11\\Unidad_02_Introduccion_a_Machine_Learning\\Ejercicios_Workout\\15_Ejercicios_Modelado.ipynb)\n",
    "> [Ejercicios Modelado - SOL](DS_THEBRIDGE_Angela\\04_Machine_Learning\\Sprint_11\\Unidad_02_Introduccion_a_Machine_Learning\\Ejercicios_Workout\\15_Ejercicios_Modelado_SOL.ipynb)\n",
    "\n",
    "> [**Práctica obligatoria**](DS_THEBRIDGE_Angela\\04_Machine_Learning\\Sprint_11\\Unidad_02_Introduccion_a_Machine_Learning\\Practica_Obligatoria\\18_Practica_Obligatoria_Introduccion_Machine_Learning.ipynb)\n",
    "____"
   ]
  },
  {
   "cell_type": "markdown",
   "metadata": {},
   "source": [
    "## Sprint 12 - Supervisados (I): Regresores (Lineal y Logarítmico)"
   ]
  },
  {
   "cell_type": "markdown",
   "metadata": {},
   "source": [
    "### Teoría"
   ]
  },
  {
   "cell_type": "markdown",
   "metadata": {},
   "source": [
    "##### **Unit 1 - Regresión LIneal y Regularización**"
   ]
  },
  {
   "cell_type": "markdown",
   "metadata": {},
   "source": [
    "1. [Intro Modelos Supervisados](https://drive.google.com/file/d/1qGtgsL38gZP8gwgUjOTbMRVtT6t2EClC/view?usp=drive_link)\n",
    "2. [Regresión Lineal Fundamentos](https://drive.google.com/file/d/1giJE58lo5JRIQzv69eDjL3dWjIOsZ5Ov/view?usp=drive_link)\n",
    "3. [Entrenamiento Parámetros](https://drive.google.com/file/d/1L5VZ1jxwgS54C8MvmQ06Q0FAc7_XGQKn/view?usp=drive_link)\n",
    "4. [Evaluación](https://drive.google.com/file/d/1ZHePOEAG2VIXaITcakn3Bd4712KI4Goj/view?usp=drive_link)\n",
    "\n",
    "5. [Mínimos cuadrados](DS_THEBRIDGE_Angela\\04_Machine_Learning\\Sprint_12\\Unidad_01\\Ejercicios_Workout\\05_Minimos_Cuadrados.ipynb)\n",
    "6. [Modelado Programático](DS_THEBRIDGE_Angela\\04_Machine_Learning\\Sprint_12\\Unidad_01\\Ejercicios_Workout\\06_Modelado_Programatico.ipynb)\n",
    ">[Ejercicios Modelado RL](DS_THEBRIDGE_Angela\\04_Machine_Learning\\Sprint_12\\Unidad_01\\Ejercicios_Workout\\13_Ejercicios_Modelado_RL.ipynb)\n",
    ">[Ejercicios Modelado RL - SOL](DS_THEBRIDGE_Angela\\04_Machine_Learning\\Sprint_12\\Unidad_01\\Ejercicios_Workout\\13_Ejercicios_Modelado_RL_SOL.ipynb)\n",
    "\n",
    "7. [Regularización Teoría](https://drive.google.com/file/d/1WAkyfJIHx-VvFNWgR_7nYUpt7eaU4nHo/view?usp=drive_link)\n",
    "8. [Regularización Práctica](DS_THEBRIDGE_Angela\\04_Machine_Learning\\Sprint_12\\Unidad_01\\Ejercicios_Workout\\07_Regularizacion_Regresion_Lineal.ipynb)\n",
    ">[Ejercicios REgularización](DS_THEBRIDGE_Angela\\04_Machine_Learning\\Sprint_12\\Unidad_01\\Ejercicios_Workout\\14_Ejercicios_Regularización.ipynb)\n",
    ">[Ejercicios REgularización - SOL](DS_THEBRIDGE_Angela\\04_Machine_Learning\\Sprint_12\\Unidad_01\\Ejercicios_Workout\\14_Ejercicios_Regularización_SOL.ipynb)\n",
    "\n",
    "> [Práctica obligatoria](DS_THEBRIDGE_Angela\\04_Machine_Learning\\Sprint_12\\Unidad_01\\Practica_Obligatoria\\18_Practica_Obligatoria_Regresion_Lineal_y_Regularización.ipynb)\n",
    "_ _ _ _\n",
    "**MATERIAL EXTRA** \n",
    "###### **1 - Detalle MCO**\n",
    "* Hipótesis en el modelo de regresión lineal por Mínimos Cuadrados Ordinarios [text](<../04_Machine_Learning/Sprint_12/Unidad_01/Material Extra/DS_04_12_01_D01.pdf>)\n",
    "###### **2 - Ecuación Recta**\n",
    "* Equations of straightlines [text](<../04_Machine_Learning/Sprint_12/Unidad_01/Material Extra/DS_04_12_01_D02.pdf>)\n",
    "###### **3 - Enlaces y referencias para profundizar**\n",
    "* **Machine Learning Genérico:** \n",
    "    * [Hands-On Machine Learning with Scikit-Learn, Keras, and TensorFlow (LIBRO)](https://learning.oreilly.com/library/view/hands-on-machine-learning/9781492032632/)\n",
    "* **Regresión Lineal:** \n",
    "    * [Regresión lineal con Python](https://cienciadedatos.net/documentos/py10-regresion-lineal-python.html)\n",
    "    * [sklearn.linear_model.LinearRegression](https://scikit-learn.org/stable/modules/generated/sklearn.linear_model.LinearRegression.html#sklearn.linear_model.LinearRegression)\n",
    "* **Gradiente descendente:** \n",
    "    * [Gradient Descent For Machine Learning](https://machinelearningmastery.com/gradient-descent-for-machine-learning/)\n",
    "    * [Gradient Descent animation: 1. Simple linear Regression](https://towardsdatascience.com/gradient-descent-animation-1-simple-linear-regression-e49315b24672)\n",
    "* **Regularización en regresión:** \n",
    "    * [Regularización Ridge, Lasso y Elastic Net con Python](https://cienciadedatos.net/documentos/py14-ridge-lasso-elastic-net-python.html)\n",
    "    * [Ridge, LASSO, and ElasticNet Regression](https://towardsdatascience.com/ridge-lasso-and-elasticnet-regression-b1f9c00ea3a3)\n",
    "* **Regularización en general:** \n",
    "    * [Regularization in Machine Learning](https://towardsdatascience.com/regularization-in-machine-learning-76441ddcf99a)\n",
    "###### **4 -Material Extra: Funciones Lineales**\n",
    "* FUNCIONES LINEALES Y AFIN [text](<../04_Machine_Learning/Sprint_12/Unidad_01/Material Extra/DS_04_12_01_D04.pdf>)\n",
    "###### **5 - Hipótesis Regresión Lineal**\n",
    "* Modelo lineal general: hipótesis y estimación [text](<../04_Machine_Learning/Sprint_12/Unidad_01/Material Extra/DS_04_12_01_D05.pdf>)"
   ]
  },
  {
   "cell_type": "markdown",
   "metadata": {},
   "source": [
    "##### **Unidad 2. Clasificación y Regresión Logística**"
   ]
  },
  {
   "cell_type": "markdown",
   "metadata": {},
   "source": [
    "1. [Problemas Clasificación I](https://drive.google.com/file/d/1cgSNDFBwBGokveJOJL6yzFwZT-ovcKaO/view?usp=drive_link)\n",
    "2. [Problemas Clasificación II](https://drive.google.com/file/d/1qpS95EVEK_hKOc-XoDk6eaPwvFACvjed/view?usp=drive_link)\n",
    "3. [Regresión Logísitca: Fundamentos](https://drive.google.com/file/d/1jUYhWTc4h5oubPLwMsBjFPp2a7XlAKXU/view?usp=drive_link)\n",
    "\n",
    "\n",
    "4. [Regresión Logísitca Binaria ](../02_Programacion_y_herramientas_avanzadas/Sprint_04_Pandas/Unidad_02/Ejercicios_Workout/03_Filtrado.ipynb)\n",
    ">[Ejercicios RL Binaria](DS_THEBRIDGE_Angela\\04_Machine_Learning\\Sprint_12\\Unidad_02\\Ejercicios_Workout\\13_Ejercicios_Practica_RL_Binaria.ipynb)\n",
    ">[Ejercicios RL Binaria - SOL](DS_THEBRIDGE_Angela\\04_Machine_Learning\\Sprint_12\\Unidad_02\\Ejercicios_Workout\\13_Ejercicios_Practica_RL_Binaria_SOL.ipynb)\n",
    "\n",
    "5. [Regresión Logística Multiclase](DS_THEBRIDGE_Angela\\04_Machine_Learning\\Sprint_12\\Unidad_02\\05_Regresion_Logistica_Multiclase.ipynb)\n",
    ">[Ejercicios RL Multiclase](DS_THEBRIDGE_Angela\\04_Machine_Learning\\Sprint_12\\Unidad_02\\Ejercicios_Workout\\14_Ejercicios_Practica_RL_Multiclase_SOL.ipynb)\n",
    ">[Ejercicios RL Multiclase SOL](DS_THEBRIDGE_Angela\\04_Machine_Learning\\Sprint_12\\Unidad_02\\Ejercicios_Workout\\14_Ejercicios_Practica_RL_Multiclase_SOL.ipynb)\n",
    "\n",
    "\n",
    ">[**Práctica obligatoria**](DS_THEBRIDGE_Angela\\04_Machine_Learning\\Sprint_12\\Unidad_02\\Practica_Obligatoria\\18_Practica_Obligatoria_Clasificacion_y_Regresion_Logistica.ipynb)\n",
    "\n",
    "**Material extra**\n",
    "###### **1 - Aprendizaje automático**\n",
    "* [Introducción al aprendizaje automático](https://developers.google.com/machine-learning/crash-course/ml-intro?hl=es-419)\n",
    "\n",
    "###### **2 - Regresión Logística**\n",
    "* [scikit-learn - Logistic regression](https://scikit-learn.org/stable/modules/linear_model.html#logistic-regression)\n",
    "\n",
    "###### **3 - Libros**\n",
    "* [\"Introduction to Statistical Learning\" de Gareth James, Daniela Witten, Trevor Hastie yRobert Tibshirani](https://www.statlearning.com/)"
   ]
  },
  {
   "cell_type": "markdown",
   "metadata": {},
   "source": [
    "#### Utilidades"
   ]
  },
  {
   "cell_type": "markdown",
   "metadata": {},
   "source": [
    "## Sprint 13 - Supervisados (II): Árboles y ensamblados"
   ]
  },
  {
   "cell_type": "markdown",
   "metadata": {},
   "source": [
    "### Teoría"
   ]
  },
  {
   "cell_type": "markdown",
   "metadata": {},
   "source": [
    "##### **Unit 1 - Árboles de decisión**"
   ]
  },
  {
   "cell_type": "markdown",
   "metadata": {},
   "source": [
    "\n",
    "1. [Conceptos](https://drive.google.com/file/d/1TCFetXmCmm78pib1_l-r0K0bexnniJb9/view?usp=drive_link)\n",
    "2. [Construcción criterios](https://drive.google.com/file/d/1XVlshef5ks3W4yIkLB29703IbTKifT9_/view?usp=drive_link)\n",
    "3. [Construcción No Binarias](https://drive.google.com/file/d/1uZdVD5I5x-3vw7YjS45ZhzOjI6C0_umD/view?usp=drive_link)\n",
    "4. [Ejemplo Resumen](https://drive.google.com/file/d/1_w4bSx85RFxGjfQgn03Yn2edgV3DtDd5/view?usp=drive_link)\n",
    "\n",
    "5. [Aplicación a Clasificación](DS_THEBRIDGE_Angela\\04_Machine_Learning\\Sprint_13\\Unidad_01_Arboles_de_Decision\\05_Aplicacion_a_Clasificacion.ipynb)\n",
    ">[Ejercicios Clasificación](DS_THEBRIDGE_Angela\\04_Machine_Learning\\Sprint_13\\Unidad_01_Arboles_de_Decision\\Ejercicios_Workout\\13_Ejercicios_Clasificacion.ipynb)\n",
    ">[Ejercicios Clasificación - SOL](DS_THEBRIDGE_Angela\\04_Machine_Learning\\Sprint_13\\Unidad_01_Arboles_de_Decision\\Ejercicios_Workout\\13_Ejercicios_Clasificacion_SOL.ipynb)\n",
    "\n",
    "6. [Aplicación a Regresión](DS_THEBRIDGE_Angela\\04_Machine_Learning\\Sprint_13\\Unidad_01_Arboles_de_Decision\\06_Aplicacion_a_Regresion.ipynb)\n",
    ">[Ejercicios Regresión](DS_THEBRIDGE_Angela\\04_Machine_Learning\\Sprint_13\\Unidad_01_Arboles_de_Decision\\Ejercicios_Workout\\14_Ejercicios_Regresion.ipynb)\n",
    ">[Ejercicios Regresión - SOL](DS_THEBRIDGE_Angela\\04_Machine_Learning\\Sprint_13\\Unidad_01_Arboles_de_Decision\\Ejercicios_Workout\\14_Ejercicios_Regresion_SOL.ipynb)\n",
    "\n",
    "7. [Optimización Hiperparámetros](https://drive.google.com/file/d/1q9-s3Cjljnz5IJfbJfYN0MhwWiTiFYNe/view?usp=drive_link)\n",
    "8. [Optimización Hiperparámetros Práctica](DS_THEBRIDGE_Angela\\04_Machine_Learning\\Sprint_13\\Unidad_01_Arboles_de_Decision\\07_Optimizacion_Practica.ipynb)\n",
    ">[Ejercicios Hiperparámetros](DS_THEBRIDGE_Angela\\04_Machine_Learning\\Sprint_13\\Unidad_01_Arboles_de_Decision\\Ejercicios_Workout\\15_Ejercicios_Hiperparametros.ipynb)\n",
    ">[Ejercicios Hiperparámetros - SOL](DS_THEBRIDGE_Angela\\04_Machine_Learning\\Sprint_13\\Unidad_01_Arboles_de_Decision\\Ejercicios_Workout\\15_Ejercicios_Hiperparametros_SOL.ipynb)\n",
    "\n",
    "> [Práctica obligatoria](DS_THEBRIDGE_Angela\\04_Machine_Learning\\Sprint_13\\Unidad_01_Arboles_de_Decision\\Practica_Obligatoria\\18_Practica_Obligatoria_Arboles_de_Decisión_y_Ajuste_de_hiperparámetros.ipynb)\n",
    "_ _ _ _\n",
    "**MATERIAL EXTRA** \n",
    "###### **1 - Ficha resumen: Árboles de decisión**\n",
    "* [Ficha resumen: árboles decisión](<../04_Machine_Learning/Sprint_13/Unidad_01_Arboles_de_Decision/Material Extra/Ficha_resumen_arboles_decision.ipynb>)\n",
    "###### **2 - Enlaces para profundizar**\n",
    "* **Árboles de decisión en sklearn** \n",
    "    * [Decision Trees](https://scikit-learn.org/stable/modules/tree.html)\n",
    "* **Optimización parámetros, guia sklearn** \n",
    "    * [Tuning the hyper-parameters of an estimator](https://scikit-learn.org/stable/modules/grid_search.html#grid-search)\n",
    "* **Optimización Bayesiana con hyperopt** \n",
    "    * [Defining a Search Space](https://hyperopt.github.io/hyperopt/getting-started/search_spaces/)\n"
   ]
  },
  {
   "cell_type": "markdown",
   "metadata": {},
   "source": [
    "##### **Unit 2 - Boosting y Bagging**"
   ]
  },
  {
   "cell_type": "markdown",
   "metadata": {},
   "source": [
    "\n",
    "1. [Ensamblado Intro](https://drive.google.com/file/d/1qxHx3ZvdogydhMTm8HKHNPkf4dusrLSV/view?usp=drive_link)\n",
    "2. [Bagging Random Forest](https://drive.google.com/file/d/1-qXbSo8cfn3cg1ceb3q0mihQlBuh3E8s/view?usp=drive_link)\n",
    "3. [Boosting](https://drive.google.com/file/d/1a4zb8si2JRoUgz_FlBOrux6nbt4uDvmq/view?usp=drive_link)\n",
    "\n",
    "\n",
    "4. [Bagging Práctico](DS_THEBRIDGE_Angela\\04_Machine_Learning\\Sprint_13\\Unidad_02_Boosting_y_Bagging\\04_Bagging_Practico.ipynb)\n",
    "5. [Boosting Práctico](DS_THEBRIDGE_Angela\\04_Machine_Learning\\Sprint_13\\Unidad_02_Boosting_y_Bagging\\05_Boosting_Practico.ipynb)\n",
    ">[Ejercicios Bagging y boosting](DS_THEBRIDGE_Angela\\04_Machine_Learning\\Sprint_13\\Unidad_02_Boosting_y_Bagging\\Ejercicios_Workout\\13_Ejercicios_Bagging_y_Boosting.ipynb)\n",
    ">[Ejercicios Bagging y boosting - SOL](DS_THEBRIDGE_Angela\\04_Machine_Learning\\Sprint_13\\Unidad_02_Boosting_y_Bagging\\Ejercicios_Workout\\13_Ejercicios_Bagging_y_Boosting_SOL.ipynb)\n",
    "\n",
    "6. [Comparación Modelos de Clasificación](DS_THEBRIDGE_Angela\\04_Machine_Learning\\Sprint_13\\Unidad_02_Boosting_y_Bagging\\06_Comparacion_Modelos_Clasificacion.ipynb)\n",
    "7. [Comparación MOdelos de Regresión](DS_THEBRIDGE_Angela\\04_Machine_Learning\\Sprint_13\\Unidad_02_Boosting_y_Bagging\\07_Comparacion_Modelos_Regresion.ipynb)\n",
    ">[Ejercicios Comparación de Modelos](DS_THEBRIDGE_Angela\\04_Machine_Learning\\Sprint_13\\Unidad_02_Boosting_y_Bagging\\Ejercicios_Workout\\14_Ejercicios_Comparacion_Modelos.ipynb)\n",
    ">[Ejercicios Comparación de Modelos - SOL](DS_THEBRIDGE_Angela\\04_Machine_Learning\\Sprint_13\\Unidad_02_Boosting_y_Bagging\\Ejercicios_Workout\\14_Ejercicios_Comparacion_Modelos_SOL.ipynb)\n",
    "\n",
    "> [Práctica obligatoira](DS_THEBRIDGE_Angela\\04_Machine_Learning\\Sprint_13\\Unidad_02_Boosting_y_Bagging\\Practica_Obligatoria\\18_Practica_Obligatoria_Ensamblado_de_modelos,_bagging,_boosting,_random_forest_y_gbts.ipynb)\n",
    "_ _ _ _\n",
    "**MATERIAL EXTRA** \n",
    "###### **1 - Catboost - Ficha Resumen**\n",
    "* [Ficha Resumen: catboost](<../04_Machine_Learning/Sprint_13/Unidad_02_Boosting_y_Bagging/Material Extra/Ficha_resumen_Catboost.ipynb>)\n",
    "\n",
    "###### **2 - Enlaces para profundizar**\n",
    "* **Ensamblado de modelos** \n",
    "    * [Ensembles: Gradient boosting, random forests, bagging, voting, stacking](https://scikit-learn.org/stable/modules/ensemble.html#)\n",
    "    * [Simple guide for ensemble learning methods](https://towardsdatascience.com/simple-guide-for-ensemble-learning-methods-d87cc68705a2)\n",
    "* **Comparativa XGBoost, LightGBM,CatBoost** \n",
    "    * [XGBoost, Light GBM and CatBoost](https://medium.com/octave-john-keells-group/xgboost-light-gbm-and-catboost-a-comparison-of-decision-tree-algorithms-and-applications-to-a-f1d2d376d89c)\n",
    "* **XGBoost** \n",
    "    * [XGBoost: The Definitive Guide (Part 1)](https://towardsdatascience.com/xgboost-the-definitive-guide-part-1-cc24d2dcd87a)\n",
    "    * [XGBoost: The Definitive Guide (Part 2)](https://towardsdatascience.com/xgboost-the-definitive-guide-part-2-c38ef02f74d0) \n",
    "* **CatBoost** \n",
    "    * [XGBoost: The Definitive Guide (Part 1)](https://towardsdatascience.com/xgboost-the-definitive-guide-part-1-cc24d2dcd87a)   \n",
    "\n",
    "###### **3 - GBT**\n",
    "* [Ficha resumen GBT](<../04_Machine_Learning/Sprint_13/Unidad_02_Boosting_y_Bagging/Material Extra/Ficha_resumen_GBT.ipynb>)\n",
    "###### **4 - Light GBM**\n",
    "* [Ficha resumen Light GBM](<../04_Machine_Learning/Sprint_13/Unidad_02_Boosting_y_Bagging/Material Extra/Ficha_resumen_lightgbm.ipynb>)\n",
    "###### **5 - Random Forest**\n",
    "* [Ficha resumen Random Forest](<../04_Machine_Learning/Sprint_13/Unidad_02_Boosting_y_Bagging/Material Extra/Ficha_resumen_random_forest.ipynb>)\n",
    "###### **6 - XGBoost**\n",
    "* [Ficha resumen XGBoost](<../04_Machine_Learning/Sprint_13/Unidad_02_Boosting_y_Bagging/Material Extra/Ficha_resumen_xgboost.ipynb>)\n"
   ]
  },
  {
   "cell_type": "markdown",
   "metadata": {},
   "source": [
    "## Sprint 14 - Supervisados (III): Otros Modelos y Repaso"
   ]
  },
  {
   "cell_type": "markdown",
   "metadata": {},
   "source": [
    "### Teoría"
   ]
  },
  {
   "cell_type": "markdown",
   "metadata": {},
   "source": [
    "##### **Unit 1 - Otros modelos supervisados**"
   ]
  },
  {
   "cell_type": "markdown",
   "metadata": {},
   "source": [
    "\n",
    "\n",
    "1. [KNN](DS_THEBRIDGE_Angela\\04_Machine_Learning\\Sprint_14\\Unidad_01\\01_KNN.ipynb)\n",
    "2. [Regresión polinómica](DS_THEBRIDGE_Angela\\04_Machine_Learning\\Sprint_14\\Unidad_01\\02_Regresion_Polinomica.ipynb)\n",
    "3. [Support Vector Machines](DS_THEBRIDGE_Angela\\04_Machine_Learning\\Sprint_14\\Unidad_01\\03_Support_Vector_Machines.ipynb)\n",
    ">[Ejercicios otros modelos supervisados](DS_THEBRIDGE_Angela\\04_Machine_Learning\\Sprint_14\\Unidad_01\\Ejercicios_Workout\\13_Ejercicios_Otros_Modelos.ipynb)\n",
    ">[Ejercicios otros modelos supervisados - SOL](DS_THEBRIDGE_Angela\\04_Machine_Learning\\Sprint_14\\Unidad_01\\Ejercicios_Workout\\13_Ejercicios_Otros_Modelos_SOL.ipynb)\n",
    "\n",
    "4. [Dispersión](DS_THEBRIDGE_Angela\\03_Analisis_de_Datos\\Sprint_08\\Unidad_01_Visualizacion_Basica\\04_Dispersion.ipynb)\n",
    "5. [Histogramas Boxplots](DS_THEBRIDGE_Angela\\03_Analisis_de_Datos\\Sprint_08\\Unidad_01_Visualizacion_Basica\\05_Histogramas_Boxplot.ipynb)\n",
    "6. [Barras Errores](DS_THEBRIDGE_Angela\\03_Analisis_de_Datos\\Sprint_08\\Unidad_01_Visualizacion_Basica\\06_Barras_Errores.ipynb)\n",
    "\n",
    "    * [Ejercicios gráficas](DS_THEBRIDGE_Angela\\03_Analisis_de_Datos\\Sprint_08\\Unidad_01_Visualizacion_Basica\\11_Ejercicios_Graficas.ipynb)\n",
    "    * [SOL](DS_THEBRIDGE_Angela\\03_Analisis_de_Datos\\Sprint_08\\Unidad_01_Visualizacion_Basica\\11_Ejercicios_Graficas_SOL.ipynb)\n",
    "\n",
    "7. [Elementos de apoyo](DS_THEBRIDGE_Angela\\03_Analisis_de_Datos\\Sprint_08\\Unidad_01_Visualizacion_Basica\\07_Elementos_de_Apoyo.ipynb)\n",
    "    * [Ejercicios de Elementos de apoyo](DS_THEBRIDGE_Angela\\03_Analisis_de_Datos\\Sprint_08\\Unidad_01_Visualizacion_Basica\\12_Ejercicios_Apoyo.ipynb)\n",
    "    * [SOL](DS_THEBRIDGE_Angela\\03_Analisis_de_Datos\\Sprint_08\\Unidad_01_Visualizacion_Basica\\12_Ejercicios_Apoyo_SOL.ipynb)\n",
    "\n",
    "> [Práctica obligatoria](DS_THEBRIDGE_Angela\\03_Analisis_de_Datos\\Sprint_08\\Unidad_01_Visualizacion_Basica\\Practica_Obligatoria\\18_Practica_Obligatoria_Visualizacion_Basica.ipynb)\n",
    "_ _ _ _\n",
    "**MATERIAL EXTRA** \n",
    "###### **1 - Tutorial oficial Matplotlib**\n",
    "* [Tutorial matplotlib](https://matplotlib.org/stable/tutorials/index.html)\n",
    "###### **2 - Otros Tutoriales Matpotlib**\n",
    "* [Python Plotting With Matplotlib (Guide)](https://realpython.com/python-matplotlib-guide/)\n",
    "* [Matplotlib Tutorial – A Complete Guide to Python Plot with Examples](https://www.machinelearningplus.com/plots/matplotlib-tutorial-complete-guide-python-plot-examples/?utm_content=cmp-true)\n",
    "###### **3 - Visualizaciones (repetido)**\n",
    "* [From Data to Viz](https://www.data-to-viz.com/)\n",
    "###### **4 - Cheat Sheet**\n",
    "* [Matplotlib](DS_THEBRIDGE_Angela\\03_Analisis_de_Datos\\Sprint_08\\Unidad_01_Visualizacion_Basica\\Matplotlib.png)\n"
   ]
  },
  {
   "attachments": {
    "Matplotlib.png": {
     "image/png": "[encoded data removed]"
    }
   },
   "cell_type": "markdown",
   "metadata": {},
   "source": [
    "![Matplotlib.png](attachment:Matplotlib.png)"
   ]
  },
  {
   "cell_type": "markdown",
   "metadata": {},
   "source": [
    "##### **Unit 2 - Herramientas Avanzadas Presentaciones**"
   ]
  },
  {
   "cell_type": "markdown",
   "metadata": {},
   "source": [
    "\n",
    "\n",
    "1. [Intro Seaborn](DS_THEBRIDGE_Angela\\03_Analisis_de_Datos\\Sprint_08\\Unidad_02_Herramientas_Avanzadas_Presentaciones\\01_Intro_Seaborn.ipynb)\n",
    "2. [Visualización Una Variable I](DS_THEBRIDGE_Angela\\03_Analisis_de_Datos\\Sprint_08\\Unidad_02_Herramientas_Avanzadas_Presentaciones\\02_Visualizacion_Una_Variable_I.ipynb)\n",
    "3. [Visualización Una Variable II](DS_THEBRIDGE_Angela\\03_Analisis_de_Datos\\Sprint_08\\Unidad_02_Herramientas_Avanzadas_Presentaciones\\03_Visualizacion_Una_Variable_II.ipynb)\n",
    "   \n",
    "    * [Ejercicios Visualización Univariante](DS_THEBRIDGE_Angela\\03_Analisis_de_Datos\\Sprint_08\\Unidad_02_Herramientas_Avanzadas_Presentaciones\\Ejercicios_Workout\\10_Ejercicios_Visualizacion_Univariante.ipynb)\n",
    "    * [SOL](DS_THEBRIDGE_Angela\\03_Analisis_de_Datos\\Sprint_08\\Unidad_02_Herramientas_Avanzadas_Presentaciones\\Ejercicios_Workout\\10_Ejercicios_Visualizacion_Univariante_SOL.ipynb)\n",
    "\n",
    "4. [Visualización Dos Variables I](DS_THEBRIDGE_Angela\\03_Analisis_de_Datos\\Sprint_08\\Unidad_02_Herramientas_Avanzadas_Presentaciones\\04_Visualizacion_Dos_Variables_I.ipynb)\n",
    "5. [Visualización Dos Variables II](DS_THEBRIDGE_Angela\\03_Analisis_de_Datos\\Sprint_08\\Unidad_02_Herramientas_Avanzadas_Presentaciones\\05_Visualizacion_Dos_Variables_II.ipynb)\n",
    "6. [Visualización Dos Variables III](DS_THEBRIDGE_Angela\\03_Analisis_de_Datos\\Sprint_08\\Unidad_02_Herramientas_Avanzadas_Presentaciones\\06_Visualizacion_Dos_Variables_III.ipynb)\n",
    "7. [Visualización Multivariante](DS_THEBRIDGE_Angela\\03_Analisis_de_Datos\\Sprint_08\\Unidad_01_Visualizacion_Basica\\06_Barras_Errores.ipynb)\n",
    "\n",
    "    * [Ejercicios Visualización Multivariante](DS_THEBRIDGE_Angela\\03_Analisis_de_Datos\\Sprint_08\\Unidad_02_Herramientas_Avanzadas_Presentaciones\\Ejercicios_Workout\\11_Ejercicios_Visualizacion_Multivariante.ipynb)\n",
    "    * [SOL](DS_THEBRIDGE_Angela\\03_Analisis_de_Datos\\Sprint_08\\Unidad_02_Herramientas_Avanzadas_Presentaciones\\Ejercicios_Workout\\11_Ejercicios_Visualizacion_Multivariante_SOL.ipynb)\n",
    "\n",
    "> [Práctica obligatoria](DS_THEBRIDGE_Angela\\03_Analisis_de_Datos\\Sprint_08\\Unidad_02_Herramientas_Avanzadas_Presentaciones\\Practica_Obligatoria\\18_Practica_Obligatoria_Visualizacion_Presentacion_SOL_github.ipynb)\n",
    "_ _ _ _\n",
    "**MATERIAL EXTRA** \n",
    "###### **1 - Tutoriales oficiales Seaborn**\n",
    "* [User guide and tutorial](https://seaborn.pydata.org/tutorial.html)\n",
    "###### **2 - Tutoriales Seaborn**\n",
    "* [The Ultimate Python Seaborn Tutorial: Gotta Catch ‘Em All](https://elitedatascience.com/python-seaborn-tutorial)\n",
    "###### **3 - Articulos Visualizacion**\n",
    "* [The Three Elements of Successful Data Visualizations](https://hbr.org/2013/04/the-three-elements-of-successf)\n",
    "* [The Quick and Dirty on Data Visualization](https://hbr.org/2014/04/the-quick-and-dirty-on-data-visualization)\n",
    "###### **4 - Blog visualizaciones**\n",
    "* [Top data visualization blogs to follow in 2023 ](https://www.webdatarocks.com/blog/top-data-visualization-blogs-to-follow/)\n",
    "###### **5 - Blog visualizaciones**\n",
    "* [THE WORK OF EDWARD TUFTE AND GRAPHICS PRESS](https://www.edwardtufte.com/tufte/)\n",
    "* [Wikipedia: Edward Tufte](https://es.wikipedia.org/wiki/Edward_Tufte)\n",
    "###### **6 - Documentos Seaborn**\n",
    "* [Python for Data Science: Seaborn Cheat Sheet](DS_THEBRIDGE_Angela\\03_Analisis_de_Datos\\Sprint_08\\Unidad_02_Herramientas_Avanzadas_Presentaciones\\Cheat_Sheet_S8.pdf)\n",
    "* [Tutorials point: Seaborn](DS_THEBRIDGE_Angela\\03_Analisis_de_Datos\\Sprint_08\\Unidad_02_Herramientas_Avanzadas_Presentaciones\\Tutorial_Point_S8.pdf)"
   ]
  }
 ],
 "metadata": {
  "kernelspec": {
   "display_name": "Python 3",
   "language": "python",
   "name": "python3"
  },
  "language_info": {
   "codemirror_mode": {
    "name": "ipython",
    "version": 3
   },
   "file_extension": ".py",
   "mimetype": "text/x-python",
   "name": "python",
   "nbconvert_exporter": "python",
   "pygments_lexer": "ipython3",
   "version": "3.11.3"
  }
 },
 "nbformat": 4,
 "nbformat_minor": 2
}
