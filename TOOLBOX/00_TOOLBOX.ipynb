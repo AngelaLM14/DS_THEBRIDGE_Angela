{
 "cells": [
  {
   "cell_type": "markdown",
   "metadata": {},
   "source": [
    "# TOOLBOX"
   ]
  },
  {
   "cell_type": "markdown",
   "metadata": {},
   "source": [
    "1. [Ramp up](01_Ramp_up.ipynb)\n",
    "\n",
    "2. [Programación y herramientas avanzadas](02_Programacion_y_herramientas_avanzadas.ipynb)\n",
    "\n",
    "3. [Análisis de datos](<03_Procesado y Análisis de Datos.ipynb>)\n"
   ]
  }
 ],
 "metadata": {
  "kernelspec": {
   "display_name": "Python 3",
   "language": "python",
   "name": "python3"
  },
  "language_info": {
   "codemirror_mode": {
    "name": "ipython",
    "version": 3
   },
   "file_extension": ".py",
   "mimetype": "text/x-python",
   "name": "python",
   "nbconvert_exporter": "python",
   "pygments_lexer": "ipython3",
   "version": "3.11.3"
  }
 },
 "nbformat": 4,
 "nbformat_minor": 2
}
