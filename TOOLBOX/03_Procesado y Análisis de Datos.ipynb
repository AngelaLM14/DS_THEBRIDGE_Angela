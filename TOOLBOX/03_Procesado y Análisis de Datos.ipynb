{
 "cells": [
  {
   "cell_type": "markdown",
   "metadata": {},
   "source": [
    "## Sprint 05 - Acceso local y Tratamiento de Datos"
   ]
  },
  {
   "cell_type": "markdown",
   "metadata": {},
   "source": [
    "### Teoría"
   ]
  },
  {
   "cell_type": "markdown",
   "metadata": {},
   "source": [
    "#### Unit 1 - Introducción al Data Analytics y a los procesos ETLS"
   ]
  },
  {
   "cell_type": "markdown",
   "metadata": {},
   "source": [
    "1. [Vectores](../02_Programacion_y_herramientas_avanzadas/Sprint_03_Algebra_y_Numpy/Unidad_01/Ejercicios_Workout/01_Vectores.ipynb)\n",
    "2. [Ampliación Vectores](../02_Programacion_y_herramientas_avanzadas/Sprint_03_Algebra_y_Numpy/Unidad_01/Ejercicios_Workout/02_Ampliacion_Vectores.ipynb)\n",
    "> [Ejercicios Vectores](../02_Programacion_y_herramientas_avanzadas/Sprint_03_Algebra_y_Numpy/Unidad_01/Ejercicios_Workout/09_Ejercicios_Vectores.ipynb)\n",
    "3. [Matrices](../02_Programacion_y_herramientas_avanzadas/Sprint_03_Algebra_y_Numpy/Unidad_01/Ejercicios_Workout/03_Matrices.ipynb)\n",
    "4. [Operaciones con Matrices](../02_Programacion_y_herramientas_avanzadas/Sprint_03_Algebra_y_Numpy/Unidad_01/Ejercicios_Workout/04_Operaciones_Matrices_I.ipynb)\n",
    "5. [Operaciones con Matrices II](../02_Programacion_y_herramientas_avanzadas/Sprint_03_Algebra_y_Numpy/Unidad_01/Ejercicios_Workout/05_Operaciones_Matrices_II.ipynb)\n",
    "> [Ejercicios Matrices](../02_Programacion_y_herramientas_avanzadas/Sprint_03_Algebra_y_Numpy/Unidad_01/Ejercicios_Workout/10_Ejercicios_Matrices.ipynb)\n",
    "6. [Hello Numpy_Vectores](../02_Programacion_y_herramientas_avanzadas/Sprint_03_Algebra_y_Numpy/Unidad_01/Ejercicios_Workout/06_Hello_Numpy_Vectores.ipynb)\n",
    "7. [Hello Numpy_Matrices](../02_Programacion_y_herramientas_avanzadas/Sprint_03_Algebra_y_Numpy/Unidad_01/Ejercicios_Workout/07_Hello_Numpy_Matrices.ipynb)\n",
    "> [Ejercicios Hello Numpy](../02_Programacion_y_herramientas_avanzadas/Sprint_03_Algebra_y_Numpy/Unidad_01/Ejercicios_Workout/11_Ejercicios_Hello_Numpy.ipynb)\n",
    "\n",
    ">[**Práctica Obligatoria**](../02_Programacion_y_herramientas_avanzadas/Sprint_03_Algebra_y_Numpy/Unidad_01/Practica_Obligatoria/18_Practica_Obligatoria_Algebra_Numpy.ipynb)\n",
    "____\n",
    "**MATERIAL EXTRA** \n",
    "###### **1 - Expresiones Regulares**\n",
    "* [Documentación Python](https://docs.python.org/3/library/re.html)\n",
    "* [regex.com](https://regex101.com/)\n",
    "* [regexr.com](https://regexr.com/)\n",
    "###### **2 - Tratamiento de texto en Pandas**\n",
    "* [Working with text data](https://pandas.pydata.org/docs/user_guide/text.html)\n",
    "###### **3 - Fechas, series temporales**\n",
    "* [DateTime in Pandas: An Uncomplicated Guide (2023)](https://www.dataquest.io/blog/datetime-in-pandas/)\n",
    "* [Time series / date functionality](https://pandas.pydata.org/docs/user_guide/timeseries.html)\n",
    "###### **4 - Datos Faltantes**\n",
    "* [Working with missing data](https://pandas.pydata.org/docs/user_guide/missing_data.html)\n",
    "* [How to Handle Missing Data](https://towardsdatascience.com/how-to-handle-missing-data-8646b18db0d4)\n",
    "\n"
   ]
  },
  {
   "cell_type": "markdown",
   "metadata": {},
   "source": [
    "#### Unit 2 - Acceso y Procesado de Datos Internos: Ficheros"
   ]
  },
  {
   "cell_type": "markdown",
   "metadata": {},
   "source": [
    "1. [Arrays](../02_Programacion_y_herramientas_avanzadas/Sprint_03_Algebra_y_Numpy/Unidad_02/Ejercicios_Workout/01_Arrays.ipynb)\n",
    "2. [Atributos](../02_Programacion_y_herramientas_avanzadas/Sprint_03_Algebra_y_Numpy/Unidad_02/Ejercicios_Workout/02_Atributos_Array.ipynb)\n",
    "3. [Indexado y Slicing](../02_Programacion_y_herramientas_avanzadas/Sprint_03_Algebra_y_Numpy/Unidad_02/Ejercicios_Workout/03_Indexado_Slicing.ipynb)\n",
    "4. [Reshape](../02_Programacion_y_herramientas_avanzadas/Sprint_03_Algebra_y_Numpy/Unidad_02/Ejercicios_Workout/04_Reshape_video.ipynb)\n",
    "    * [Ejercicios Array](../02_Programacion_y_herramientas_avanzadas/Sprint_03_Algebra_y_Numpy/Unidad_02/Ejercicios_Workout/10_Ejercicios_Array.ipynb)\n",
    "5. [Concatenaciones](../02_Programacion_y_herramientas_avanzadas/Sprint_03_Algebra_y_Numpy/Unidad_02/Ejercicios_Workout/05_Concatenaciones.ipynb)\n",
    "6. [Split](../02_Programacion_y_herramientas_avanzadas/Sprint_03_Algebra_y_Numpy/Unidad_02/Ejercicios_Workout/06_Split.ipynb)\n",
    "7. [Vistas y copias](../02_Programacion_y_herramientas_avanzadas/Sprint_03_Algebra_y_Numpy/Unidad_02/Ejercicios_Workout/07_Vistas_y_copias.ipynb)\n",
    "    * [Ejercicios Manipulaciones](../02_Programacion_y_herramientas_avanzadas/Sprint_03_Algebra_y_Numpy/Unidad_02/Ejercicios_Workout/11_Ejercicios_Manipulaciones.ipynb)\n",
    "8. [Agregaciones](../02_Programacion_y_herramientas_avanzadas/Sprint_03_Algebra_y_Numpy/Unidad_02/Ejercicios_Workout/08_Agregaciones.ipynb)\n",
    "9. [Ejemplo Agregaciones](../02_Programacion_y_herramientas_avanzadas/Sprint_03_Algebra_y_Numpy/Unidad_02/Ejercicios_Workout/09_Ejemplo_Agregaciones.ipynb)\n",
    "> [Ejercicios Agregaciones y otras funciones](../02_Programacion_y_herramientas_avanzadas/Sprint_03_Algebra_y_Numpy/Unidad_02/Ejercicios_Workout/12_Ejercicios_Agregaciones_y_otras_funciones.ipynb)\n",
    "\n",
    "> [**Práctica obligatoria**](02_Programacion_y_herramientas_avanzadas/Sprint_03_Algebra_y_Numpy/Unidad_02/Practica_Obligatoria/18_Practica_Obligatoria_Numpy__II.ipynb)\n",
    "____\n",
    "**MATERIAL EXTRA** \n",
    "###### **1 - Lectura y escritura**\n",
    "* [Reading and Writing Files in Python (Guide)](https://realpython.com/read-write-files-python/)\n",
    "* [Built-in funcions --> open](https://docs.python.org/3/library/functions.html#open)\n",
    "###### **2 - Ficheros csv, tsv, etc.**\n",
    "* [CSV File Reading and Writing](https://docs.python.org/3/library/csv.html)\n",
    "* [pandas.read_csv](https://pandas.pydata.org/docs/reference/api/pandas.read_csv.html)\n",
    "###### **3 - Openpyxl y ficheros excel**\n",
    "* [pandas.DataFrame.to_excel](https://pandas.pydata.org/pandas-docs/stable/reference/api/pandas.DataFrame.to_excel.html)\n",
    "* [openpyxl - A Python library to read/write Excel 2010 xlsx/xlsm files](https://openpyxl.readthedocs.io/en/stable/)\n",
    "* [A Guide to Excel Spreadsheets in Python With openpyxl](https://realpython.com/openpyxl-excel-spreadsheets-python/)\n",
    "###### **4 - JSON**\n",
    "* [Introducing JSON](https://www.json.org/json-en.html)\n",
    "* [json — Codificador y decodificador JSON](https://docs.python.org/es/3/library/json.html)\n",
    "###### **5 - XML**\n",
    "* [xml.etree.ElementTree — The ElementTree XML API](https://docs.python.org/3/library/xml.etree.elementtree.html)\n",
    "* [XML Tutorial](https://www.w3schools.com/xml/)"
   ]
  },
  {
   "cell_type": "markdown",
   "metadata": {},
   "source": [
    "## Sprint 06 - Bases de datos y Acceso Remoto"
   ]
  },
  {
   "cell_type": "markdown",
   "metadata": {},
   "source": [
    "### Teoría"
   ]
  },
  {
   "cell_type": "markdown",
   "metadata": {},
   "source": [
    "##### **Unit 1 - Acceso y procesado de datos internos: Bases de Datos**"
   ]
  },
  {
   "cell_type": "markdown",
   "metadata": {},
   "source": [
    "\n",
    "3. [Conectividad y cursores](../03_Analisis_de_Datos/Sprint_06/Unidad_01/Ejercicios_Workout/03_Conectividad_Cursores.ipynb)\n",
    "4. [Modelo de Datos y Primeras Queries](../03_Analisis_de_Datos/Sprint_06/Unidad_01/Ejercicios_Workout/04_Modelo_Datos_Primeras_Queries.ipynb)\n",
    "5. [WHERE](../03_Analisis_de_Datos/Sprint_06/Unidad_01/Ejercicios_Workout/05_WHERE.ipynb)\n",
    "6. [Agregación y agrupación](../03_Analisis_de_Datos/Sprint_06/Unidad_01/Ejercicios_Workout/06_Agregacion_Agrupacion.ipynb)\n",
    "\n",
    "    * [Ejercicios consultas SQL](../03_Analisis_de_Datos/Sprint_06/Unidad_01/Ejercicios_Workout/12_Ejercicio_Consultas_SQL.ipynb)\n",
    "\n",
    "7. [JOINS: Teoría](../03_Analisis_de_Datos/Sprint_06/Unidad_01/Ejercicios_Workout/07_Joins_Teoria.ipynb)\n",
    "8. [JOINS: Ejemplos LEFT](../03_Analisis_de_Datos/Sprint_06/Unidad_01/Ejercicios_Workout/08_Join_Ejemplos_LEFT.ipynb)\n",
    "9. [JOINS: Ejemplos II](../02_Programacion_y_herramientas_avanzadas/Sprint_04_Pandas/Unidad_01/Ejercicios_Workout/09_Seleccion_en_DataFrame_I.ipynb)\n",
    "\n",
    "    * [Ejercicios JOINS y merge](../03_Analisis_de_Datos/Sprint_06/Unidad_01/Ejercicios_Workout/13_Ejercicio_Joins_Merge.ipynb)\n",
    "\n",
    "10. [Gestión BDs](../03_Analisis_de_Datos/Sprint_06/Unidad_01/Ejercicios_Workout/10_Gestion_BD.ipynb)\n",
    "12. [Gestión BDs II](../03_Analisis_de_Datos/Sprint_06/Unidad_01/Ejercicios_Workout/11_Gestion_BDs_II.ipynb)\n",
    "\n",
    "\n",
    "> [Práctica obligatoria](../03_Analisis_de_Datos/Sprint_06/Unidad_01/Practica_Obligatoria/18_Practica_Obligatoria_SQL_SOLUCION.ipynb)\n",
    "_ _ _ _\n",
    "**MATERIAL EXTRA** \n",
    "###### **1 - Tutoriales para practicar SQL en w3school**\n",
    "* [SQL Tutorial](https://www.w3schools.com/sql/)\n",
    "###### **2 - Más sobre JOINS SQL**\n",
    "* [Sentencia JOIN en SQL](https://es.wikipedia.org/wiki/Sentencia_JOIN_en_SQL)\n",
    "###### **3 - Joins en Pandas**\n",
    "* [Merge, join, concatenate and compare](https://pandas.pydata.org/docs/user_guide/merging.html)\n",
    "###### **4 -Cheat Sheets**\n",
    "* [**SQL**](<../03_Analisis_de_Datos/Sprint_06/Unidad_01/Ejercicios_Workout/SQL cheetsheet.pdf>)\n",
    "* [**SQL for DS**](<../03_Analisis_de_Datos/Sprint_06/Unidad_01/Ejercicios_Workout/SQL for DS.pdf>)\n",
    "* [**SQL 2023**](../03_Analisis_de_Datos/Sprint_06/Unidad_01/Ejercicios_Workout/sql-cheat-sheet-2023.pdf)\n",
    "* [**SQL II**](../03_Analisis_de_Datos/Sprint_06/Unidad_01/Ejercicios_Workout/CHEAT_SHEET_II_SQL.pdf)\n"
   ]
  },
  {
   "cell_type": "markdown",
   "metadata": {},
   "source": [
    "##### **Unidad 2. Herramientas Avanzadas: Pandas II**"
   ]
  },
  {
   "cell_type": "markdown",
   "metadata": {},
   "source": [
    "\n",
    "2. [Intro: Web Scrapping](../03_Analisis_de_Datos/Sprint_06/Unidad_02/Ejercicios_Workout/02_Intro_Web_Scraping.ipynb)\n",
    "3. [Beautiful Soup I - clase](../03_Analisis_de_Datos/Sprint_06/Unidad_02/Ejercicios_Workout/03_BeautifulSoup_I_clase.ipynb)\n",
    "4. [Beautiful Soup II ](../02_Programacion_y_herramientas_avanzadas/Sprint_04_Pandas/Unidad_02/Ejercicios_Workout/03_Filtrado.ipynb)\n",
    "5. [Ejemplo Scraping I](../03_Analisis_de_Datos/Sprint_06/Unidad_02/Ejercicios_Workout/05_Ejemplo_Scraping_I.ipynb)\n",
    "6. [Ejemplo Scraping II](../03_Analisis_de_Datos/Sprint_06/Unidad_02/Ejercicios_Workout/06_Ejemplo_Scraping_II.ipynb)\n",
    "\n",
    "    * [Ejercicios Web Scraping](../03_Analisis_de_Datos/Sprint_06/Unidad_02/Ejercicios_Workout/10_Ejercicio_Web_Scraping.ipynb)\n",
    "    * [Ejercicios Web Scraping SOL](../03_Analisis_de_Datos/Sprint_06/Unidad_02/Ejercicios_Workout/10_Ejercicio_Web_Scraping_SOL.ipynb)\n",
    "\n",
    "7. [APIs I](../03_Analisis_de_Datos/Sprint_06/Unidad_02/Ejercicios_Workout/07_API_I.ipynb)\n",
    "6. [APIs II - Ejemplo](../03_Analisis_de_Datos/Sprint_06/Unidad_02/Ejercicios_Workout/08_API_II_Ejemplo.ipynb)\n",
    "    \n",
    "    * [Ejercicios APIs](../03_Analisis_de_Datos/Sprint_06/Unidad_02/Ejercicios_Workout/11_Ejercicio_APIs.ipynb)\n",
    "    * [Ejercicios APIs SOL](../03_Analisis_de_Datos/Sprint_06/Unidad_02/Ejercicios_Workout/11_Ejercicio_APIs_SOL.ipynb)\n",
    "\n",
    "\n",
    ">>[**Resolución notebooks**]()\n",
    "\n",
    ">[**Práctica obligatoria**](../03_Analisis_de_Datos/Sprint_06/Unidad_02/Practica_Obligatoria/18_Practica_Obligatoria_Scraping_API_SOL.ipynb)\n",
    "\n",
    "**Material extra**\n",
    "###### **1 - URL Base de APIs interesantes o la URLde documentación**\n",
    "* [Rest Countries](https://restcountries.com/)\n",
    "* [The Movie Database](https://www.themoviedb.org/settings/api)\n",
    "* [Open Weather Map](https://openweathermap.org/api)\n",
    "* [Github](https://docs.github.com/es/rest?apiVersion=2022-11-28)\n",
    "* [Spotify](https://developer.spotify.com/documentation/web-api)\n",
    "* [IMDB - solo pago](https://imdb-api.com/)\n",
    "* [Wikimedia - incluye wikipedia](https://api.wikimedia.org/wiki/Getting_started_with_Wikimedia_APIs)\n",
    "* [X (Twitter)](https://developer.twitter.com/en/docs/twitter-api)\n",
    "* [Unplash](https://unsplash.com/developers)\n",
    "* [INE](https://www.ine.es/dyngs/DataLab/manual.html?cid=45)\n",
    "* [Idealista](https://developers.idealista.com/access-request)\n",
    "* [AEMET](https://opendata.aemet.es/centrodedescargas/inicio)\n",
    "\n",
    "\n",
    "\n",
    "###### **2 - Selenium, para ampliar el WebScrapingL**\n",
    "* [Selenium with Python](https://selenium-python.readthedocs.io/)"
   ]
  },
  {
   "cell_type": "markdown",
   "metadata": {},
   "source": [
    "#### Utilidades"
   ]
  },
  {
   "cell_type": "markdown",
   "metadata": {},
   "source": [
    "## Sprint 07 - Análisis descriptivo y explicativo"
   ]
  },
  {
   "cell_type": "markdown",
   "metadata": {},
   "source": [
    "### Teoría"
   ]
  },
  {
   "cell_type": "markdown",
   "metadata": {},
   "source": [
    "##### **Unit 1 - Análisis: Univariante**"
   ]
  },
  {
   "cell_type": "markdown",
   "metadata": {},
   "source": [
    "\n",
    "3. [Conectividad y cursores](../03_Analisis_de_Datos/Sprint_06/Unidad_01/Ejercicios_Workout/03_Conectividad_Cursores.ipynb)\n",
    "4. [Modelo de Datos y Primeras Queries](../03_Analisis_de_Datos/Sprint_06/Unidad_01/Ejercicios_Workout/04_Modelo_Datos_Primeras_Queries.ipynb)\n",
    "5. [WHERE](../03_Analisis_de_Datos/Sprint_06/Unidad_01/Ejercicios_Workout/05_WHERE.ipynb)\n",
    "6. [Agregación y agrupación](../03_Analisis_de_Datos/Sprint_06/Unidad_01/Ejercicios_Workout/06_Agregacion_Agrupacion.ipynb)\n",
    "\n",
    "    * [Ejercicios consultas SQL](../03_Analisis_de_Datos/Sprint_06/Unidad_01/Ejercicios_Workout/12_Ejercicio_Consultas_SQL.ipynb)\n",
    "\n",
    "7. [JOINS: Teoría](../03_Analisis_de_Datos/Sprint_06/Unidad_01/Ejercicios_Workout/07_Joins_Teoria.ipynb)\n",
    "8. [JOINS: Ejemplos LEFT](../03_Analisis_de_Datos/Sprint_06/Unidad_01/Ejercicios_Workout/08_Join_Ejemplos_LEFT.ipynb)\n",
    "9. [JOINS: Ejemplos II](../02_Programacion_y_herramientas_avanzadas/Sprint_04_Pandas/Unidad_01/Ejercicios_Workout/09_Seleccion_en_DataFrame_I.ipynb)\n",
    "\n",
    "    * [Ejercicios JOINS y merge](../03_Analisis_de_Datos/Sprint_06/Unidad_01/Ejercicios_Workout/13_Ejercicio_Joins_Merge.ipynb)\n",
    "\n",
    "10. [Gestión BDs](../03_Analisis_de_Datos/Sprint_06/Unidad_01/Ejercicios_Workout/10_Gestion_BD.ipynb)\n",
    "12. [Gestión BDs II](../03_Analisis_de_Datos/Sprint_06/Unidad_01/Ejercicios_Workout/11_Gestion_BDs_II.ipynb)\n",
    "\n",
    "\n",
    "> [Práctica obligatoria](../03_Analisis_de_Datos/Sprint_06/Unidad_01/Practica_Obligatoria/18_Practica_Obligatoria_SQL_SOLUCION.ipynb)\n",
    "_ _ _ _\n",
    "**MATERIAL EXTRA** \n",
    "###### **1 - Tutoriales para practicar SQL en w3school**\n",
    "* [SQL Tutorial](https://www.w3schools.com/sql/)\n",
    "###### **2 - Más sobre JOINS SQL**\n",
    "* [Sentencia JOIN en SQL](https://es.wikipedia.org/wiki/Sentencia_JOIN_en_SQL)\n",
    "###### **3 - Joins en Pandas**\n",
    "* [Merge, join, concatenate and compare](https://pandas.pydata.org/docs/user_guide/merging.html)\n",
    "###### **4 -Cheat Sheets**\n",
    "* [**SQL**](<../03_Analisis_de_Datos/Sprint_06/Unidad_01/Ejercicios_Workout/SQL cheetsheet.pdf>)\n",
    "* [**SQL for DS**](<../03_Analisis_de_Datos/Sprint_06/Unidad_01/Ejercicios_Workout/SQL for DS.pdf>)\n",
    "* [**SQL 2023**](../03_Analisis_de_Datos/Sprint_06/Unidad_01/Ejercicios_Workout/sql-cheat-sheet-2023.pdf)\n",
    "* [**SQL II**](../03_Analisis_de_Datos/Sprint_06/Unidad_01/Ejercicios_Workout/CHEAT_SHEET_II_SQL.pdf)\n"
   ]
  }
 ],
 "metadata": {
  "kernelspec": {
   "display_name": "Python 3",
   "language": "python",
   "name": "python3"
  },
  "language_info": {
   "codemirror_mode": {
    "name": "ipython",
    "version": 3
   },
   "file_extension": ".py",
   "mimetype": "text/x-python",
   "name": "python",
   "nbconvert_exporter": "python",
   "pygments_lexer": "ipython3",
   "version": "3.11.3"
  }
 },
 "nbformat": 4,
 "nbformat_minor": 2
}
