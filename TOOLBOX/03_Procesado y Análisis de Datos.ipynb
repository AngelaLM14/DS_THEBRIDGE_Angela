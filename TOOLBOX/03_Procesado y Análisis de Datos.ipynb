{
 "cells": [
  {
   "cell_type": "markdown",
   "metadata": {},
   "source": [
    "## Sprint 05 - Acceso local y Tratamiento de Datos"
   ]
  },
  {
   "cell_type": "markdown",
   "metadata": {},
   "source": [
    "### Teoría"
   ]
  },
  {
   "cell_type": "markdown",
   "metadata": {},
   "source": [
    "#### Unit 1 - Introducción al Data Analytics y a los procesos ETLS"
   ]
  },
  {
   "cell_type": "markdown",
   "metadata": {},
   "source": [
    "1. [Vectores](../02_Programacion_y_herramientas_avanzadas/Sprint_03_Algebra_y_Numpy/Unidad_01/Ejercicios_Workout/01_Vectores.ipynb)\n",
    "2. [Ampliación Vectores](../02_Programacion_y_herramientas_avanzadas/Sprint_03_Algebra_y_Numpy/Unidad_01/Ejercicios_Workout/02_Ampliacion_Vectores.ipynb)\n",
    "> [Ejercicios Vectores](../02_Programacion_y_herramientas_avanzadas/Sprint_03_Algebra_y_Numpy/Unidad_01/Ejercicios_Workout/09_Ejercicios_Vectores.ipynb)\n",
    "3. [Matrices](../02_Programacion_y_herramientas_avanzadas/Sprint_03_Algebra_y_Numpy/Unidad_01/Ejercicios_Workout/03_Matrices.ipynb)\n",
    "4. [Operaciones con Matrices](../02_Programacion_y_herramientas_avanzadas/Sprint_03_Algebra_y_Numpy/Unidad_01/Ejercicios_Workout/04_Operaciones_Matrices_I.ipynb)\n",
    "5. [Operaciones con Matrices II](../02_Programacion_y_herramientas_avanzadas/Sprint_03_Algebra_y_Numpy/Unidad_01/Ejercicios_Workout/05_Operaciones_Matrices_II.ipynb)\n",
    "> [Ejercicios Matrices](../02_Programacion_y_herramientas_avanzadas/Sprint_03_Algebra_y_Numpy/Unidad_01/Ejercicios_Workout/10_Ejercicios_Matrices.ipynb)\n",
    "6. [Hello Numpy_Vectores](../02_Programacion_y_herramientas_avanzadas/Sprint_03_Algebra_y_Numpy/Unidad_01/Ejercicios_Workout/06_Hello_Numpy_Vectores.ipynb)\n",
    "7. [Hello Numpy_Matrices](../02_Programacion_y_herramientas_avanzadas/Sprint_03_Algebra_y_Numpy/Unidad_01/Ejercicios_Workout/07_Hello_Numpy_Matrices.ipynb)\n",
    "> [Ejercicios Hello Numpy](../02_Programacion_y_herramientas_avanzadas/Sprint_03_Algebra_y_Numpy/Unidad_01/Ejercicios_Workout/11_Ejercicios_Hello_Numpy.ipynb)\n",
    "\n",
    ">[**Práctica Obligatoria**](../02_Programacion_y_herramientas_avanzadas/Sprint_03_Algebra_y_Numpy/Unidad_01/Practica_Obligatoria/18_Practica_Obligatoria_Algebra_Numpy.ipynb)"
   ]
  },
  {
   "cell_type": "markdown",
   "metadata": {},
   "source": [
    "#### Unit 2 - Acceso y Procesado de Datos Internos: Ficheros"
   ]
  },
  {
   "cell_type": "markdown",
   "metadata": {},
   "source": [
    "1. [Arrays](../02_Programacion_y_herramientas_avanzadas/Sprint_03_Algebra_y_Numpy/Unidad_02/Ejercicios_Workout/01_Arrays.ipynb)\n",
    "2. [Atributos](../02_Programacion_y_herramientas_avanzadas/Sprint_03_Algebra_y_Numpy/Unidad_02/Ejercicios_Workout/02_Atributos_Array.ipynb)\n",
    "3. [Indexado y Slicing](../02_Programacion_y_herramientas_avanzadas/Sprint_03_Algebra_y_Numpy/Unidad_02/Ejercicios_Workout/03_Indexado_Slicing.ipynb)\n",
    "4. [Reshape](../02_Programacion_y_herramientas_avanzadas/Sprint_03_Algebra_y_Numpy/Unidad_02/Ejercicios_Workout/04_Reshape_video.ipynb)\n",
    "    * [Ejercicios Array](../02_Programacion_y_herramientas_avanzadas/Sprint_03_Algebra_y_Numpy/Unidad_02/Ejercicios_Workout/10_Ejercicios_Array.ipynb)\n",
    "5. [Concatenaciones](../02_Programacion_y_herramientas_avanzadas/Sprint_03_Algebra_y_Numpy/Unidad_02/Ejercicios_Workout/05_Concatenaciones.ipynb)\n",
    "6. [Split](../02_Programacion_y_herramientas_avanzadas/Sprint_03_Algebra_y_Numpy/Unidad_02/Ejercicios_Workout/06_Split.ipynb)\n",
    "7. [Vistas y copias](../02_Programacion_y_herramientas_avanzadas/Sprint_03_Algebra_y_Numpy/Unidad_02/Ejercicios_Workout/07_Vistas_y_copias.ipynb)\n",
    "    * [Ejercicios Manipulaciones](../02_Programacion_y_herramientas_avanzadas/Sprint_03_Algebra_y_Numpy/Unidad_02/Ejercicios_Workout/11_Ejercicios_Manipulaciones.ipynb)\n",
    "8. [Agregaciones](../02_Programacion_y_herramientas_avanzadas/Sprint_03_Algebra_y_Numpy/Unidad_02/Ejercicios_Workout/08_Agregaciones.ipynb)\n",
    "9. [Ejemplo Agregaciones](../02_Programacion_y_herramientas_avanzadas/Sprint_03_Algebra_y_Numpy/Unidad_02/Ejercicios_Workout/09_Ejemplo_Agregaciones.ipynb)\n",
    "> [Ejercicios Agregaciones y otras funciones](../02_Programacion_y_herramientas_avanzadas/Sprint_03_Algebra_y_Numpy/Unidad_02/Ejercicios_Workout/12_Ejercicios_Agregaciones_y_otras_funciones.ipynb)\n",
    "\n",
    "> [**Práctica obligatoria**](02_Programacion_y_herramientas_avanzadas/Sprint_03_Algebra_y_Numpy/Unidad_02/Practica_Obligatoria/18_Practica_Obligatoria_Numpy__II.ipynb)"
   ]
  },
  {
   "cell_type": "markdown",
   "metadata": {},
   "source": [
    "## Sprint 04 - Herramientas Avanzadas: Pandas"
   ]
  },
  {
   "cell_type": "markdown",
   "metadata": {},
   "source": [
    "### Teoría"
   ]
  },
  {
   "cell_type": "markdown",
   "metadata": {},
   "source": [
    "##### **Unidad 1. Herramientas Avanzadas: Pandas I**"
   ]
  },
  {
   "cell_type": "markdown",
   "metadata": {},
   "source": [
    "\n",
    "1. [Series](../02_Programacion_y_herramientas_avanzadas/Sprint_04_Pandas/Unidad_01/Ejercicios_Workout/01_Series.ipynb)\n",
    "2. [Series II](../02_Programacion_y_herramientas_avanzadas/Sprint_04_Pandas/Unidad_01/Ejercicios_Workout/02_Series_II.ipynb)\n",
    "3. [Series III](../02_Programacion_y_herramientas_avanzadas/Sprint_04_Pandas/Unidad_01/Ejercicios_Workout/03_Series_III.ipynb)\n",
    "\n",
    "    * [Ejercicios series](../02_Programacion_y_herramientas_avanzadas/Sprint_04_Pandas/Unidad_01/Ejercicios_Workout/14_Ejercicios_Series.ipynb)\n",
    "\n",
    "4. [DataFrame I](../02_Programacion_y_herramientas_avanzadas/Sprint_04_Pandas/Unidad_01/Ejercicios_Workout/04_DataFrame_I.ipynb)\n",
    "5. [DataFrame II](../02_Programacion_y_herramientas_avanzadas/Sprint_04_Pandas/Unidad_01/Ejercicios_Workout/05_DataFrame_II.ipynb)\n",
    "6. [Index](../02_Programacion_y_herramientas_avanzadas/Sprint_04_Pandas/Unidad_01/Ejercicios_Workout/06_Index.ipynb)\n",
    "    \n",
    "    * [Ejercicios DataFrame](../02_Programacion_y_herramientas_avanzadas/Sprint_04_Pandas/Unidad_01/Ejercicios_Workout/15_Ejercicios_DataFrame.ipynb)\n",
    "\n",
    "7. [Selección en Series I](../02_Programacion_y_herramientas_avanzadas/Sprint_04_Pandas/Unidad_01/Ejercicios_Workout/07_Seleccion_en_Series_I.ipynb)\n",
    "8. [Selección en Series II](../02_Programacion_y_herramientas_avanzadas/Sprint_04_Pandas/Unidad_01/Ejercicios_Workout/08_Seleccion_en_Series_II.ipynb)\n",
    "9. [Selección en DataFrame I](../02_Programacion_y_herramientas_avanzadas/Sprint_04_Pandas/Unidad_01/Ejercicios_Workout/09_Seleccion_en_DataFrame_I.ipynb)\n",
    "10. [Selección en DataFrame II](../02_Programacion_y_herramientas_avanzadas/Sprint_04_Pandas/Unidad_01/Ejercicios_Workout/10_Seleccion_en_DataFrame_II.ipynb)\n",
    "\n",
    "    * [Ejercicios selección](../02_Programacion_y_herramientas_avanzadas/Sprint_04_Pandas/Unidad_01/Ejercicios_Workout/16_Ejercicios_Seleccion.ipynb)\n",
    "\n",
    "11. [Series: índices y operaciones](../02_Programacion_y_herramientas_avanzadas/Sprint_04_Pandas/Unidad_01/Ejercicios_Workout/11_Series__indices_y_operaciones.ipynb)\n",
    "12. [DataFrame: índices y operaciones](../02_Programacion_y_herramientas_avanzadas/Sprint_04_Pandas/Unidad_01/Ejercicios_Workout/12_DataFrame__indices_y_operaciones.ipynb)\n",
    "\n",
    "[**Cheat Sheet: Pandas**](<../02_Programacion_y_herramientas_avanzadas/Sprint_04_Pandas/Unidad_01/Ejercicios_Workout/Cheat Sheet - Pandas.pdf>)\n",
    "\n",
    "> [Práctica obligatoria](../02_Programacion_y_herramientas_avanzadas/Sprint_04_Pandas/Unidad_01/Practica_Obligatoria/18_Practica_Obligatoria_Pandas_I.ipynb)\n",
    "\n",
    ">>[**Resolución notebooks**](../02_Programacion_y_herramientas_avanzadas/Sprint_04_Pandas/Unidad_01/Unidad_01_Herramientas_Avanzadas__Pandas_I)"
   ]
  },
  {
   "cell_type": "markdown",
   "metadata": {},
   "source": [
    "##### **Unidad 2. Herramientas Avanzadas: Pandas II**"
   ]
  },
  {
   "cell_type": "markdown",
   "metadata": {},
   "source": [
    "\n",
    "1. [Exploración](../02_Programacion_y_herramientas_avanzadas/Sprint_04_Pandas/Unidad_02/Ejercicios_Workout/01_Exploracion.ipynb)\n",
    "2. [Manipulación Básica](../02_Programacion_y_herramientas_avanzadas/Sprint_04_Pandas/Unidad_02/Ejercicios_Workout/02_Operaciones_Basicas.ipynb)\n",
    "3. [Filtrado](../02_Programacion_y_herramientas_avanzadas/Sprint_04_Pandas/Unidad_02/Ejercicios_Workout/03_Filtrado.ipynb)\n",
    "4. [DaOperaciones sobre Filtrado](../02_Programacion_y_herramientas_avanzadas/Sprint_04_Pandas/Unidad_02/Ejercicios_Workout/04_Operaciones_Sobre_Filtrado.ipynb)\n",
    "\n",
    "    * [Ejercicios series](../02_Programacion_y_herramientas_avanzadas/Sprint_04_Pandas/Unidad_02/Ejercicios_Workout/12_Ejercicios_Series.ipynb)\n",
    "\n",
    "5. [Duplicados](../02_Programacion_y_herramientas_avanzadas/Sprint_04_Pandas/Unidad_02/Ejercicios_Workout/05_Duplicados.ipynb)\n",
    "6. [Nulos](../02_Programacion_y_herramientas_avanzadas/Sprint_04_Pandas/Unidad_02/Ejercicios_Workout/06_Nulos.ipynb)\n",
    "7. [Apply](../02_Programacion_y_herramientas_avanzadas/Sprint_04_Pandas/Unidad_02/Ejercicios_Workout/07_Apply.ipynb)\n",
    "8. [Apply Columnas](../02_Programacion_y_herramientas_avanzadas/Sprint_04_Pandas/Unidad_02/Ejercicios_Workout/08_Apply_Columnas.ipynb)\n",
    "    \n",
    "    * [Ejercicios Manipulación](../02_Programacion_y_herramientas_avanzadas/Sprint_04_Pandas/Unidad_02/Ejercicios_Workout/13_Ejercicio_Manipulacion.ipynb)\n",
    "\n",
    "\n",
    "9. [Groupby](../02_Programacion_y_herramientas_avanzadas/Sprint_04_Pandas/Unidad_02/Ejercicios_Workout/09_Groupby.ipynb)\n",
    "10. [Funciones agrupación](../02_Programacion_y_herramientas_avanzadas/Sprint_04_Pandas/Unidad_02/Ejercicios_Workout/10_Funciones_agrupacion.ipynb)\n",
    "11. [Transform](../02_Programacion_y_herramientas_avanzadas/Sprint_04_Pandas/Unidad_02/Ejercicios_Workout/11_Transform.ipynb)\n",
    "\n",
    "    * [Ejercicios agrupaciones](../02_Programacion_y_herramientas_avanzadas/Sprint_04_Pandas/Unidad_02/Ejercicios_Workout/14_Ejercicio_Agrupaciones.ipynb)\n",
    "\n",
    ">>[**Resolución notebooks**](../02_Programacion_y_herramientas_avanzadas/Sprint_04_Pandas/Unidad_02/Unidad_02_Herramientas_Avanzadas__Pandas_II)\n",
    "\n",
    ">[**Práctica obligatoria**](../02_Programacion_y_herramientas_avanzadas/Sprint_04_Pandas/Unidad_02/Practica_Obligatoria/18_Practica_Obligatoria_Pandas_II.ipynb)\n",
    "\n",
    "**Material extra**\n",
    "* [Buenas Prácticas Indexación Pandas](<../02_Programacion_y_herramientas_avanzadas/Sprint_04_Pandas/Unidad_02/Material_extra/Buenas Prácticas Indexación Pandas.md>)\n",
    "\n",
    "* [Cheat Sheet: Pandas Basic](<../02_Programacion_y_herramientas_avanzadas/Sprint_04_Pandas/Unidad_02/Material_extra/Cheat Sheet - Pandas Basic(1).pdf>)\n",
    "\n",
    "* [Links y referencias S4](<../02_Programacion_y_herramientas_avanzadas/Sprint_04_Pandas/Unidad_02/Material_extra/Links y referencias S4.pdf>)"
   ]
  },
  {
   "cell_type": "markdown",
   "metadata": {},
   "source": [
    "#### Utilidades"
   ]
  }
 ],
 "metadata": {
  "kernelspec": {
   "display_name": "Python 3",
   "language": "python",
   "name": "python3"
  },
  "language_info": {
   "codemirror_mode": {
    "name": "ipython",
    "version": 3
   },
   "file_extension": ".py",
   "mimetype": "text/x-python",
   "name": "python",
   "nbconvert_exporter": "python",
   "pygments_lexer": "ipython3",
   "version": "3.11.3"
  }
 },
 "nbformat": 4,
 "nbformat_minor": 2
}
