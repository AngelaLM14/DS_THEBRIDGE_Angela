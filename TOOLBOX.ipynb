{
 "cells": [
  {
   "cell_type": "markdown",
   "metadata": {},
   "source": [
    "# TOOLBOX"
   ]
  },
  {
   "cell_type": "markdown",
   "metadata": {},
   "source": [
    "## Ramp up"
   ]
  },
  {
   "cell_type": "markdown",
   "metadata": {},
   "source": [
    "### Sprint 1 - Fundamentos básicos y programación\n"
   ]
  },
  {
   "cell_type": "markdown",
   "metadata": {},
   "source": [
    "#### Teoría"
   ]
  },
  {
   "cell_type": "markdown",
   "metadata": {},
   "source": [
    "##### Unidad 1"
   ]
  },
  {
   "cell_type": "markdown",
   "metadata": {},
   "source": [
    "1. [Markdown en Jupyer I](<Ramp_up/Sprint 01/01_Fundamentos basicos y programacion/Unidad_01/Ejercicios Workout/01_Markdown_en_Jupyter_I_alumno.ipynb>)\n",
    "2. [Markdown en Jupyter II](<Ramp_up/Sprint 01/01_Fundamentos basicos y programacion/Unidad_01/Ejercicios Workout/02_Markdown_en_Jupyter_II_alumno.ipynb>)"
   ]
  },
  {
   "cell_type": "markdown",
   "metadata": {},
   "source": [
    "##### Unidad 2"
   ]
  },
  {
   "cell_type": "markdown",
   "metadata": {},
   "source": [
    "\n",
    "***Variables y print***\n",
    "\n",
    "1. [Variables I](<Ramp_up/Sprint 01/01_Fundamentos basicos y programacion/Unidad_02/Ejercicios_Workout/01_Variables_I_II_alumno_wtoc.ipynb>)\n",
    "2. [Print y otros aspectos básicos](<Ramp_up/Sprint 01/01_Fundamentos basicos y programacion/Unidad_02/Ejercicios_Workout/02_Print_y_otros_aspectos_basicos_wtoc.ipynb>)\n",
    "\n",
    "***Tipos de datos***\n",
    "\n",
    "3. [Tipos de datos](<Ramp_up/Sprint 01/01_Fundamentos basicos y programacion/Unidad_02/Ejercicios_Workout/03_Tipos_de_datos_alumno_wtoc.ipynb>)\n",
    "4. [Conversión de Tipos e Input](<Ramp_up/Sprint 01/01_Fundamentos basicos y programacion/Unidad_02/Ejercicios_Workout/04_Conversion_Tipos_e_Input_wtoc.ipynb>)\n",
    "\n",
    "***Operaciones Básicas***\n",
    "\n",
    "5. [Operaciones Aritméticas y comparativas](<Ramp_up/Sprint 01/01_Fundamentos basicos y programacion/Unidad_02/Ejercicios_Workout/05_Operaciones_Aritmeticas_Comparativas_alumno_wtoc.ipynb>)\n",
    "6. [Operaciones booleanas](<Ramp_up/Sprint 01/01_Fundamentos basicos y programacion/Unidad_02/Ejercicios_Workout/06_Operaciones_Booleanas_alumno_wtoc.ipynb>)\n",
    "7. [Operaciones bultin y Métodos](<Ramp_up/Sprint 01/01_Fundamentos basicos y programacion/Unidad_02/Ejercicios_Workout/07_Funciones_builtin_y_Metodos_alumno_wtoc.ipynb>)\n",
    "8. [Listas](<Ramp_up/Sprint 01/01_Fundamentos basicos y programacion/Unidad_02/Ejercicios_Workout/08_Listas_alumno_wtoc.ipynb>)"
   ]
  },
  {
   "cell_type": "markdown",
   "metadata": {},
   "source": [
    "#### Utilidades"
   ]
  },
  {
   "cell_type": "code",
   "execution_count": 4,
   "metadata": {},
   "outputs": [
    {
     "name": "stdout",
     "output_type": "stream",
     "text": [
      "Quiero 4 manzanas y 3 peras.\n",
      "Quiero 4 manzanas y 3 peras.\n",
      "Quiero 4 manzanas y 3 peras.\n",
      "Quiero 4 manzanas y 3 peras.\n"
     ]
    }
   ],
   "source": [
    "### Formas de incluir variables dentro de strings\n",
    "\n",
    "var1 = 4\n",
    "var2 = 3\n",
    "\n",
    "print(\"Quiero\", var1, \"manzanas y\", var2, \"peras.\", sep=' ')\n",
    "print(\"Quiero %s manzanas y %s peras.\" %(var1, var2))\n",
    "print('Quiero {} manzanas y {} peras.'.format(var1, var2))\n",
    "print(f\"Quiero {var1} manzanas y {var2} peras.\")"
   ]
  },
  {
   "cell_type": "code",
   "execution_count": 7,
   "metadata": {},
   "outputs": [
    {
     "name": "stdout",
     "output_type": "stream",
     "text": [
      "[2, 3]\n",
      "[2, 3]\n"
     ]
    }
   ],
   "source": [
    "### Cambiar tipo dentro de una lista\n",
    "lista_str = [\"2\",\"3\"]\n",
    "lista_int = [int(lista_str[0]),int(lista_str[1])]\n",
    "print(lista_int)\n",
    "\n",
    "elemento1 = int(lista_str[0])\n",
    "elemento2 = int(lista_str[1])\n",
    "\n",
    "lista_int_2 = [elemento1, elemento2]\n",
    "print(lista_int_2)"
   ]
  },
  {
   "cell_type": "code",
   "execution_count": 9,
   "metadata": {},
   "outputs": [
    {
     "name": "stdout",
     "output_type": "stream",
     "text": [
      "['a', 'b', 'c', 'd']\n",
      "a b c d\n",
      "<class 'str'>\n"
     ]
    }
   ],
   "source": [
    "### Método join. para convertir listas a strings: \n",
    "\n",
    "lista_join = [\"a\", \"b\", \"c\", \"d\"]\n",
    "\n",
    "print(lista_join)\n",
    "\n",
    "string_join = (' '.join(lista_join))\n",
    "\n",
    "print(string_join)\n",
    "\n",
    "print(type(string_join))\n"
   ]
  },
  {
   "cell_type": "markdown",
   "metadata": {},
   "source": [
    "#### Cosas curiosas"
   ]
  },
  {
   "cell_type": "code",
   "execution_count": 6,
   "metadata": {},
   "outputs": [
    {
     "name": "stdout",
     "output_type": "stream",
     "text": [
      "[1, 2, 3, 1, 2, 3, 1, 2, 3]\n",
      "[4000, 4000, 4000]\n"
     ]
    }
   ],
   "source": [
    "### Multiplicar una lista\n",
    "\n",
    "print([1,2,3]*3)\n",
    "\n",
    "print([4000]*3)"
   ]
  },
  {
   "cell_type": "markdown",
   "metadata": {},
   "source": [
    "#### Preguntas pendientes"
   ]
  },
  {
   "cell_type": "markdown",
   "metadata": {},
   "source": []
  },
  {
   "cell_type": "markdown",
   "metadata": {},
   "source": [
    "## Sprint 2"
   ]
  },
  {
   "cell_type": "markdown",
   "metadata": {},
   "source": [
    "#### Teoría"
   ]
  },
  {
   "cell_type": "code",
   "execution_count": null,
   "metadata": {},
   "outputs": [],
   "source": []
  },
  {
   "cell_type": "markdown",
   "metadata": {},
   "source": [
    "#### Utilidades"
   ]
  },
  {
   "cell_type": "code",
   "execution_count": null,
   "metadata": {},
   "outputs": [],
   "source": []
  },
  {
   "cell_type": "markdown",
   "metadata": {},
   "source": [
    "#### Cosas curiosas"
   ]
  },
  {
   "cell_type": "code",
   "execution_count": null,
   "metadata": {},
   "outputs": [],
   "source": []
  },
  {
   "cell_type": "markdown",
   "metadata": {},
   "source": [
    "#### Preguntas pendientes"
   ]
  }
 ],
 "metadata": {
  "kernelspec": {
   "display_name": "Python 3",
   "language": "python",
   "name": "python3"
  },
  "language_info": {
   "codemirror_mode": {
    "name": "ipython",
    "version": 3
   },
   "file_extension": ".py",
   "mimetype": "text/x-python",
   "name": "python",
   "nbconvert_exporter": "python",
   "pygments_lexer": "ipython3",
   "version": "3.11.3"
  }
 },
 "nbformat": 4,
 "nbformat_minor": 2
}
