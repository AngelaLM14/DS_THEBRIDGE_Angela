{
 "cells": [
  {
   "cell_type": "markdown",
   "metadata": {},
   "source": [
    "# TOOLBOX"
   ]
  },
  {
   "cell_type": "markdown",
   "metadata": {},
   "source": [
    "## Teoría"
   ]
  },
  {
   "cell_type": "markdown",
   "metadata": {},
   "source": [
    "### Ramp up\n",
    "\n",
    "##### Sprint 1 - Fundamentos básicos y programación\n",
    "\n",
    "**Unidad 1**\n",
    "\n",
    "\n",
    "* [Markdown en Jupyer I](<Ramp_up/Sprint 01/01_Fundamentos basicos y programacion/Unidad_01/Ejercicios Workout/01_Markdown_en_Jupyter_I_alumno.ipynb>)\n",
    "* [Markdown en Jupyter II](<Ramp_up/Sprint 01/01_Fundamentos basicos y programacion/Unidad_01/Ejercicios Workout/02_Markdown_en_Jupyter_II_alumno.ipynb>)\n",
    "\n",
    "**Unidad 2**\n",
    "\n",
    "***Variables y print***\n",
    "\n",
    "* [Variables I](<Ramp_up/Sprint 01/01_Fundamentos basicos y programacion/Unidad_02/Ejercicios_Workout/01_Variables_I_II_alumno_wtoc.ipynb>)\n",
    "* [Print y otros aspectos básicos](<Ramp_up/Sprint 01/01_Fundamentos basicos y programacion/Unidad_02/Ejercicios_Workout/02_Print_y_otros_aspectos_basicos_wtoc.ipynb>)\n",
    "\n",
    "***Tipos de datos***\n",
    "* [Tipos de datos](<Ramp_up/Sprint 01/01_Fundamentos basicos y programacion/Unidad_02/Ejercicios_Workout/03_Tipos_de_datos_alumno_wtoc.ipynb>)\n",
    "* [Conversión de Tipos e Input](<Ramp_up/Sprint 01/01_Fundamentos basicos y programacion/Unidad_02/Ejercicios_Workout/04_Conversion_Tipos_e_Input_wtoc.ipynb>)\n"
   ]
  },
  {
   "cell_type": "markdown",
   "metadata": {},
   "source": [
    "## Cosas curiosas"
   ]
  },
  {
   "cell_type": "markdown",
   "metadata": {},
   "source": [
    "## Preguntas pendientes"
   ]
  }
 ],
 "metadata": {
  "language_info": {
   "name": "python"
  }
 },
 "nbformat": 4,
 "nbformat_minor": 2
}
