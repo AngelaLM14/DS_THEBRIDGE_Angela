{
 "cells": [
  {
   "cell_type": "markdown",
   "metadata": {},
   "source": [
    "# TOOLBOX"
   ]
  },
  {
   "cell_type": "markdown",
   "metadata": {},
   "source": [
    "## Teoría"
   ]
  },
  {
   "cell_type": "markdown",
   "metadata": {},
   "source": [
    "### Ramp up\n",
    "\n",
    "##### Sprint 1 - Fundamentos básicos y programación\n",
    "\n",
    "**Unidad 1**\n",
    "\n",
    "\n",
    "1. [Markdown en Jupyer I](<Ramp_up/Sprint 01/01_Fundamentos basicos y programacion/Unidad_01/Ejercicios Workout/01_Markdown_en_Jupyter_I_alumno.ipynb>)\n",
    "2. [Markdown en Jupyter II](<Ramp_up/Sprint 01/01_Fundamentos basicos y programacion/Unidad_01/Ejercicios Workout/02_Markdown_en_Jupyter_II_alumno.ipynb>)\n",
    "\n",
    "**Unidad 2**\n",
    "\n",
    "***Variables y print***\n",
    "\n",
    "1. [Variables I](<Ramp_up/Sprint 01/01_Fundamentos basicos y programacion/Unidad_02/Ejercicios_Workout/01_Variables_I_II_alumno_wtoc.ipynb>)\n",
    "2. [Print y otros aspectos básicos](<Ramp_up/Sprint 01/01_Fundamentos basicos y programacion/Unidad_02/Ejercicios_Workout/02_Print_y_otros_aspectos_basicos_wtoc.ipynb>)\n",
    "\n",
    "***Tipos de datos***\n",
    "\n",
    "3. [Tipos de datos](<Ramp_up/Sprint 01/01_Fundamentos basicos y programacion/Unidad_02/Ejercicios_Workout/03_Tipos_de_datos_alumno_wtoc.ipynb>)\n",
    "4. [Conversión de Tipos e Input](<Ramp_up/Sprint 01/01_Fundamentos basicos y programacion/Unidad_02/Ejercicios_Workout/04_Conversion_Tipos_e_Input_wtoc.ipynb>)\n",
    "\n",
    "***Operaciones Básicas***\n",
    "\n",
    "5. [Operaciones Aritméticas y comparativas](<Ramp_up/Sprint 01/01_Fundamentos basicos y programacion/Unidad_02/Ejercicios_Workout/05_Operaciones_Aritmeticas_Comparativas_alumno_wtoc.ipynb>)\n",
    "6. [Operaciones booleanas](<Ramp_up/Sprint 01/01_Fundamentos basicos y programacion/Unidad_02/Ejercicios_Workout/06_Operaciones_Booleanas_alumno_wtoc.ipynb>)\n",
    "7. [Operaciones bultin y Métodos](<Ramp_up/Sprint 01/01_Fundamentos basicos y programacion/Unidad_02/Ejercicios_Workout/07_Funciones_builtin_y_Metodos_alumno_wtoc.ipynb>)\n",
    "8. [Listas](<Ramp_up/Sprint 01/01_Fundamentos basicos y programacion/Unidad_02/Ejercicios_Workout/08_Listas_alumno_wtoc.ipynb>)"
   ]
  },
  {
   "cell_type": "markdown",
   "metadata": {},
   "source": [
    "## Utilidades"
   ]
  },
  {
   "cell_type": "markdown",
   "metadata": {},
   "source": []
  },
  {
   "cell_type": "markdown",
   "metadata": {},
   "source": [
    "## Cosas curiosas"
   ]
  },
  {
   "cell_type": "markdown",
   "metadata": {},
   "source": []
  },
  {
   "cell_type": "markdown",
   "metadata": {},
   "source": [
    "## Preguntas pendientes"
   ]
  },
  {
   "cell_type": "markdown",
   "metadata": {},
   "source": []
  }
 ],
 "metadata": {
  "language_info": {
   "name": "python"
  }
 },
 "nbformat": 4,
 "nbformat_minor": 2
}
